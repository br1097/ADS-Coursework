{
 "cells": [
  {
   "cell_type": "code",
   "execution_count": 3,
   "metadata": {},
   "outputs": [],
   "source": [
    "import netCDF4 as nc\n",
    "import numpy as np\n",
    "import os"
   ]
  },
  {
   "cell_type": "code",
   "execution_count": 9,
   "metadata": {},
   "outputs": [
    {
     "name": "stdout",
     "output_type": "stream",
     "text": [
      "file is 1106.0 Mb, 1105785686 bits\n"
     ]
    }
   ],
   "source": [
    "file_size = os.path.getsize(\"../data/1991TS/fg.T1Hmax.UMRA2T.19910428_19910501.BOB01.4p4km.nc\")\n",
    "print (f\"file is {np.ceil(file_size / 1000**2)} Mb, {file_size} bits\")"
   ]
  },
  {
   "cell_type": "code",
   "execution_count": 20,
   "metadata": {},
   "outputs": [
    {
     "data": {
      "text/plain": [
       "['../data/.DS_Store',\n",
       " '../data/1991TS/va.T3Hpoint.UMRA2T.19910428_19910501.BOB01.4p4km.nc',\n",
       " '../data/1991TS/tas.T24Hmin.UMRA2T.19910428_19910501.BOB01.1p5km.nc',\n",
       " '../data/1991TS/rsnds.T1Hpoint.UMRA2T.19910428_19910501.BOB01.4p4km.nc',\n",
       " '../data/1991TS/hur.T1Hpoint.UMRA2T.19910428_19910501.BOB01.4p4km.nc',\n",
       " '../data/1991TS/rsnds.T1Hmean.UMRA2T.19910428_19910501.BOB01.4p4km.nc',\n",
       " '../data/1991TS/rsds.T1Hpoint.UMRA2T.19910428_19910501.BOB01.4p4km.nc',\n",
       " '../data/1991TS/hur.T1Hmean.UMRA2T.19910428_19910501.BOB01.1p5km.nc',\n",
       " '../data/1991TS/ua.T3Hpoint.UMRA2T.19910428_19910501.BOB01.4p4km.nc',\n",
       " '../data/1991TS/.DS_Store',\n",
       " '../data/1991TS/psl.T1Hmin.UMRA2T.19910428_19910501.BOB01.1p5km.nc',\n",
       " '../data/1991TS/prlst.T1Hmean.UMRA2T.19910428_19910501.BOB01.4p4km.nc',\n",
       " '../data/1991TS/prlssn.T1Hmean.UMRA2T.19910428_19910501.BOB01.4p4km.nc',\n",
       " '../data/1991TS/fg.T1Hmax.UMRA2T.19910428_19910501.BOB01.4p4km.nc',\n",
       " '../data/1991TS/wbpt.T3Hpoint.UMRA2T.19910428_19910501.BOB01.1p5km.nc',\n",
       " '../data/1991TS/rsds.T1Hmean.UMRA2T.19910428_19910501.BOB01.1p5km.nc',\n",
       " '../data/1991TS/zg.T3Hpoint.UMRA2T.19910428_19910501.BOB01.4p4km.nc',\n",
       " '../data/1991TS/va.T1Hpoint.UMRA2T.19910428_19910501.BOB01.4p4km.nc',\n",
       " '../data/1991TS/hur.T3Hpoint.UMRA2T.19910428_19910501.BOB01.4p4km.nc',\n",
       " '../data/1991TS/fg.T1Hpoint.UMRA2T.19910428_19910501.BOB01.1p5km.nc',\n",
       " '../data/1991TS/tas.T1Hpoint.UMRA2T.19910428_19910501.BOB01.4p4km.nc',\n",
       " '../data/1991TS/tas.T24Hmax.UMRA2T.19910428_19910501.BOB01.1p5km.nc',\n",
       " '../data/1991TS/tas.T1Hmean.UMRA2T.19910428_19910501.BOB01.1p5km.nc',\n",
       " '../data/1991TS/psl.T1Hpoint.UMRA2T.19910428_19910501.BOB01.4p4km.nc',\n",
       " '../data/1991TS/ua.T1Hpoint.UMRA2T.19910428_19910501.BOB01.4p4km.nc',\n",
       " '../data/1991TS/psl.T1Hmean.UMRA2T.19910428_19910501.BOB01.1p5km.nc',\n",
       " '../data/1991TS/tas.T1Hpoint.UMRA2T.19910428_19910501.BOB01.1p5km.nc',\n",
       " '../data/1991TS/tas.T24Hmax.UMRA2T.19910428_19910501.BOB01.4p4km.nc',\n",
       " '../data/1991TS/psl.T1Hpoint.UMRA2T.19910428_19910501.BOB01.1p5km.nc',\n",
       " '../data/1991TS/tas.T1Hmean.UMRA2T.19910428_19910501.BOB01.4p4km.nc',\n",
       " '../data/1991TS/zg.T3Hpoint.UMRA2T.19910428_19910501.BOB01.1p5km.nc',\n",
       " '../data/1991TS/tsens.bob01.tar',\n",
       " '../data/1991TS/va.T1Hpoint.UMRA2T.19910428_19910501.BOB01.1p5km.nc',\n",
       " '../data/1991TS/hur.T3Hpoint.UMRA2T.19910428_19910501.BOB01.1p5km.nc',\n",
       " '../data/1991TS/fg.T1Hpoint.UMRA2T.19910428_19910501.BOB01.4p4km.nc',\n",
       " '../data/1991TS/ua.T1Hpoint.UMRA2T.19910428_19910501.BOB01.1p5km.nc',\n",
       " '../data/1991TS/psl.T1Hmean.UMRA2T.19910428_19910501.BOB01.4p4km.nc',\n",
       " '../data/1991TS/va.T3Hpoint.UMRA2T.19910428_19910501.BOB01.1p5km.nc',\n",
       " '../data/1991TS/tas.T24Hmin.UMRA2T.19910428_19910501.BOB01.4p4km.nc',\n",
       " '../data/1991TS/hur.T1Hpoint.UMRA2T.19910428_19910501.BOB01.1p5km.nc',\n",
       " '../data/1991TS/rsnds.T1Hpoint.UMRA2T.19910428_19910501.BOB01.1p5km.nc',\n",
       " '../data/1991TS/rsnds.T1Hmean.UMRA2T.19910428_19910501.BOB01.1p5km.nc',\n",
       " '../data/1991TS/rsds.T1Hpoint.UMRA2T.19910428_19910501.BOB01.1p5km.nc',\n",
       " '../data/1991TS/hur.T1Hmean.UMRA2T.19910428_19910501.BOB01.4p4km.nc',\n",
       " '../data/1991TS/psl.T1Hmin.UMRA2T.19910428_19910501.BOB01.4p4km.nc',\n",
       " '../data/1991TS/prlst.T1Hmean.UMRA2T.19910428_19910501.BOB01.1p5km.nc',\n",
       " '../data/1991TS/fg.T1Hmax.UMRA2T.19910428_19910501.BOB01.1p5km.nc',\n",
       " '../data/1991TS/prlssn.T1Hmean.UMRA2T.19910428_19910501.BOB01.1p5km.nc',\n",
       " '../data/1991TS/ua.T3Hpoint.UMRA2T.19910428_19910501.BOB01.1p5km.nc',\n",
       " '../data/1991TS/rsds.T1Hmean.UMRA2T.19910428_19910501.BOB01.4p4km.nc',\n",
       " '../data/1991TS/wbpt.T3Hpoint.UMRA2T.19910428_19910501.BOB01.4p4km.nc']"
      ]
     },
     "execution_count": 20,
     "metadata": {},
     "output_type": "execute_result"
    }
   ],
   "source": [
    "from os import listdir\n",
    "from os.path import isfile, join\n",
    "mypath = \"../data\"\n",
    "def get_files(path):\n",
    "    files = []\n",
    "    for f in listdir(path):\n",
    "        if isfile(join(path, f)):\n",
    "            files.append(join(path, f))\n",
    "        else:\n",
    "            [files.append(k) for k in get_files(join(path, f))]\n",
    "    return files\n",
    "get_files(mypath)"
   ]
  },
  {
   "cell_type": "code",
   "execution_count": 26,
   "metadata": {},
   "outputs": [
    {
     "name": "stdout",
     "output_type": "stream",
     "text": [
      "file is 46.042771862 Gb, 46042771862 bits\n"
     ]
    }
   ],
   "source": [
    "file_size = sum([os.path.getsize(f) for f in get_files(\"../data\")])\n",
    "print (f\"file is {file_size / 1000**3} Gb, {file_size} bits\")"
   ]
  },
  {
   "cell_type": "code",
   "execution_count": 27,
   "metadata": {},
   "outputs": [],
   "source": [
    "files = get_files(\"../data\")"
   ]
  },
  {
   "cell_type": "code",
   "execution_count": 29,
   "metadata": {},
   "outputs": [],
   "source": [
    "fpf = [f for f in files if f[-8:] == \"4p4km.nc\"]\n",
    "opf = [f for f in files if f[-8:] == \"1p5km.nc\"]"
   ]
  },
  {
   "cell_type": "code",
   "execution_count": 30,
   "metadata": {},
   "outputs": [],
   "source": [
    "def calc_total_size(files): return sum([os.path.getsize(f) for f in files])"
   ]
  },
  {
   "cell_type": "code",
   "execution_count": 36,
   "metadata": {},
   "outputs": [
    {
     "name": "stdout",
     "output_type": "stream",
     "text": [
      "file is 28.158755678 Gb, 28158755678 bits\n",
      "file is 9.119580507 Gb, 9119580507 bits\n",
      "total size: 37.278336185 Gb\n"
     ]
    }
   ],
   "source": [
    "fpf_size = calc_total_size(fpf)\n",
    "opf_size = calc_total_size(opf)\n",
    "\n",
    "print (f\"file is {fpf_size / 1000**3} Gb, {fpf_size} bits\")\n",
    "print (f\"file is {opf_size / 1000**3} Gb, {opf_size} bits\")\n",
    "print(f\"total size: {(fpf_size + opf_size) / 1000**3} Gb\")"
   ]
  },
  {
   "cell_type": "code",
   "execution_count": 37,
   "metadata": {},
   "outputs": [],
   "source": [
    "def get_fpf_and_opf_size(path):\n",
    "    files = get_files(path)\n",
    "    fpf = [f for f in files if f[-8:] == \"4p4km.nc\"]\n",
    "    opf = [f for f in files if f[-8:] == \"1p5km.nc\"]\n",
    "    return calc_total_size(fpf), calc_total_size(opf)"
   ]
  },
  {
   "cell_type": "code",
   "execution_count": 38,
   "metadata": {},
   "outputs": [
    {
     "name": "stdout",
     "output_type": "stream",
     "text": [
      "file is 28.158755678 Gb, 28158755678 bits\n",
      "file is 9.119580507 Gb, 9119580507 bits\n",
      "total size: 37.278336185 Gb\n"
     ]
    }
   ],
   "source": [
    "fpf_size, opf_size = get_fpf_and_opf_size(\"../data\")\n",
    "\n",
    "print (f\"file is {fpf_size / 1000**3} Gb, {fpf_size} bits\")\n",
    "print (f\"file is {opf_size / 1000**3} Gb, {opf_size} bits\")\n",
    "print(f\"total size: {(fpf_size + opf_size) / 1000**3} Gb\")"
   ]
  }
 ],
 "metadata": {
  "interpreter": {
   "hash": "aee8b7b246df8f9039afb4144a1f6fd8d2ca17a180786b69acc140d282b71a49"
  },
  "kernelspec": {
   "display_name": "Python 3.10.2 64-bit",
   "language": "python",
   "name": "python3"
  },
  "language_info": {
   "codemirror_mode": {
    "name": "ipython",
    "version": 3
   },
   "file_extension": ".py",
   "mimetype": "text/x-python",
   "name": "python",
   "nbconvert_exporter": "python",
   "pygments_lexer": "ipython3",
   "version": "3.10.2"
  },
  "orig_nbformat": 4
 },
 "nbformat": 4,
 "nbformat_minor": 2
}
