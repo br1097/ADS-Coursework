{
 "cells": [
  {
   "cell_type": "code",
   "execution_count": 3,
   "metadata": {},
   "outputs": [],
   "source": [
    "import netCDF4 as nc\n",
    "import pandas as pd\n",
    "import numpy as np"
   ]
  },
  {
   "cell_type": "code",
   "execution_count": 4,
   "metadata": {},
   "outputs": [],
   "source": [
    "PATH = \"../data/1991TS\"\n",
    "FILENAME = \"psl.T1Hmean.UMRA2T.19910428_19910501.BOB01.4p4km.nc\"\n",
    "\n",
    "fn = f\"{PATH}/{FILENAME}\"\n",
    "ds = nc.Dataset(fn)"
   ]
  },
  {
   "cell_type": "code",
   "execution_count": 6,
   "metadata": {},
   "outputs": [
    {
     "data": {
      "text/plain": [
       "(9, 790, 810)"
      ]
     },
     "execution_count": 6,
     "metadata": {},
     "output_type": "execute_result"
    }
   ],
   "source": [
    "lat = ds.variables[\"latitude\"][:]\n",
    "long = ds.variables[\"longitude\"][:]\n",
    "temp = ds.variables[\"air_pressure_at_sea_level\"][:][0]\n",
    "\n",
    "temp.shape"
   ]
  },
  {
   "cell_type": "code",
   "execution_count": 17,
   "metadata": {},
   "outputs": [],
   "source": [
    "data = []\n",
    "\n",
    "for t in range(temp.shape[0]):\n",
    "    for l1 in range(temp.shape[1]):\n",
    "        for l2 in range(temp.shape[2]):\n",
    "            data.append([lat[l1], long[l2], t, temp[t,l1,l2]])\n",
    "\n",
    "np.array(data).shape\n",
    "\n",
    "df = pd.DataFrame(data, columns=[\"lat\", \"lng\", \"time\", \"temperature\"])\n"
   ]
  },
  {
   "cell_type": "code",
   "execution_count": 10,
   "metadata": {},
   "outputs": [],
   "source": [
    "df[[\"lat\", \"lng\", \"time\", \"temperature\"]].to_csv(\"test.csv\", index=False)"
   ]
  }
 ],
 "metadata": {
  "interpreter": {
   "hash": "aee8b7b246df8f9039afb4144a1f6fd8d2ca17a180786b69acc140d282b71a49"
  },
  "kernelspec": {
   "display_name": "Python 3.10.2 64-bit",
   "language": "python",
   "name": "python3"
  },
  "language_info": {
   "codemirror_mode": {
    "name": "ipython",
    "version": 3
   },
   "file_extension": ".py",
   "mimetype": "text/x-python",
   "name": "python",
   "nbconvert_exporter": "python",
   "pygments_lexer": "ipython3",
   "version": "3.10.2"
  },
  "orig_nbformat": 4
 },
 "nbformat": 4,
 "nbformat_minor": 2
}
