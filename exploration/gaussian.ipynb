{
 "cells": [
  {
   "cell_type": "markdown",
   "metadata": {},
   "source": [
    "# Fitting A Gaussian\n",
    "I want to see if I can fit a gaussian to our variables to tell which one looks like a cyclone to a degree of similarity\n",
    "\n",
    "First I will see if I can take a frame, define a gaussian, then sample from that gaussian and create something that looks like the input data\n",
    "\n",
    "I will iterate through the frames of the input data, and try to fit a gaussian. I will calculate the mean by using my clustering function, which returns a sort of weighted mean, then I will calculate the sample covariance. \n",
    "\n",
    "I will try this with and without a threshold"
   ]
  },
  {
   "cell_type": "code",
   "execution_count": 43,
   "metadata": {},
   "outputs": [],
   "source": [
    "import netCDF4 as nc\n",
    "from rich import print\n",
    "import pandas as pd\n",
    "from scipy import stats\n",
    "import numpy as np\n",
    "\n",
    "import imageio\n",
    "import os\n",
    "import matplotlib.pyplot as plt\n",
    "from library import mag_m_step"
   ]
  },
  {
   "cell_type": "code",
   "execution_count": null,
   "metadata": {},
   "outputs": [],
   "source": [
    "PATH = \"../data/1991TS\"\n",
    "# WIND SPEED OF GUST\n",
    "FG = \"fg.T1Hmax.UMRA2T.19910428_19910501.BOB01.4p4km.nc\"\n",
    "fg = nc.Dataset(f\"{PATH}/{FG}\")\n",
    "\n",
    "# COLUMNNS\n",
    "\n",
    "latitude = fg.variables[\"latitude\"][:]\n",
    "longitude = fg.variables[\"longitude\"][:]\n",
    "wind_speed = fg.variables[\"wind_speed_of_gust\"][:][0]\n",
    "wind_speed_frame = wind_speed[0][:,:790]\n",
    "\n"
   ]
  },
  {
   "cell_type": "code",
   "execution_count": 45,
   "metadata": {},
   "outputs": [
    {
     "data": {
      "image/png": "[encoded data removed]",
      "text/plain": [
       "<Figure size 432x288 with 1 Axes>"
      ]
     },
     "metadata": {
      "needs_background": "light"
     },
     "output_type": "display_data"
    }
   ],
   "source": [
    "plt.contourf(longitude[:790], latitude, wind_speed_frame)\n",
    "plt.show()"
   ]
  },
  {
   "cell_type": "code",
   "execution_count": 46,
   "metadata": {},
   "outputs": [
    {
     "data": {
      "text/html": [
       "<pre style=\"white-space:pre;overflow-x:auto;line-height:normal;font-family:Menlo,'DejaVu Sans Mono',consolas,'Courier New',monospace\"><span style=\"font-weight: bold\">[</span><span style=\"color: #008080; text-decoration-color: #008080; font-weight: bold\">87.97346802</span> <span style=\"color: #008080; text-decoration-color: #008080; font-weight: bold\">17.63823021</span><span style=\"font-weight: bold\">]</span>\n",
       "</pre>\n"
      ],
      "text/plain": [
       "\u001b[1m[\u001b[0m\u001b[1;36m87.97346802\u001b[0m \u001b[1;36m17.63823021\u001b[0m\u001b[1m]\u001b[0m\n"
      ]
     },
     "metadata": {},
     "output_type": "display_data"
    }
   ],
   "source": [
    "mean = mag_m_step(wind_speed_frame, longitude, latitude)\n",
    "print(mean)"
   ]
  },
  {
   "cell_type": "code",
   "execution_count": 25,
   "metadata": {},
   "outputs": [
    {
     "data": {
      "text/html": [
       "<pre style=\"white-space:pre;overflow-x:auto;line-height:normal;font-family:Menlo,'DejaVu Sans Mono',consolas,'Courier New',monospace\"><span style=\"font-weight: bold\">(</span><span style=\"color: #008080; text-decoration-color: #008080; font-weight: bold\">792</span>, <span style=\"color: #008080; text-decoration-color: #008080; font-weight: bold\">792</span><span style=\"font-weight: bold\">)</span>\n",
       "</pre>\n"
      ],
      "text/plain": [
       "\u001b[1m(\u001b[0m\u001b[1;36m792\u001b[0m, \u001b[1;36m792\u001b[0m\u001b[1m)\u001b[0m\n"
      ]
     },
     "metadata": {},
     "output_type": "display_data"
    }
   ],
   "source": [
    "cov = np.cov([np.asarray(longitude[:790]), np.asarray(latitude)], wind_speed_frame)\n",
    "print(cov.shape)"
   ]
  },
  {
   "cell_type": "code",
   "execution_count": 21,
   "metadata": {},
   "outputs": [
    {
     "data": {
      "text/plain": [
       "(790, 790)"
      ]
     },
     "execution_count": 21,
     "metadata": {},
     "output_type": "execute_result"
    }
   ],
   "source": [
    "wind_speed_frame.shape"
   ]
  },
  {
   "cell_type": "code",
   "execution_count": 26,
   "metadata": {},
   "outputs": [],
   "source": [
    "from sklearn.decomposition import PCA"
   ]
  },
  {
   "cell_type": "code",
   "execution_count": 34,
   "metadata": {},
   "outputs": [
    {
     "data": {
      "text/plain": [
       "array([13348.995  ,   996.06726], dtype=float32)"
      ]
     },
     "execution_count": 34,
     "metadata": {},
     "output_type": "execute_result"
    }
   ],
   "source": [
    "pca = PCA(n_components=2)\n",
    "\n",
    "wind_pca = pca.fit(wind_speed_frame)\n",
    "\n",
    "wind_pca.explained_variance_\n",
    "wind_pca.explained_variance_ratio_"
   ]
  },
  {
   "cell_type": "code",
   "execution_count": 37,
   "metadata": {},
   "outputs": [
    {
     "data": {
      "text/plain": [
       "(2, 790)"
      ]
     },
     "execution_count": 37,
     "metadata": {},
     "output_type": "execute_result"
    }
   ],
   "source": [
    "wind_fit = pca.fit_transform(wind_speed_frame).T\n",
    "\n",
    "wind_fit.shape"
   ]
  },
  {
   "cell_type": "code",
   "execution_count": 39,
   "metadata": {},
   "outputs": [
    {
     "ename": "TypeError",
     "evalue": "scatter() missing 1 required positional argument: 'y'",
     "output_type": "error",
     "traceback": [
      "\u001b[0;31m---------------------------------------------------------------------------\u001b[0m",
      "\u001b[0;31mTypeError\u001b[0m                                 Traceback (most recent call last)",
      "\u001b[1;32m/Users/harrywiner/University/Year3/ADS/ADS-Coursework/exploration/gaussian.ipynb Cell 10'\u001b[0m in \u001b[0;36m<module>\u001b[0;34m\u001b[0m\n\u001b[1;32m      <a href='vscode-notebook-cell:/Users/harrywiner/University/Year3/ADS/ADS-Coursework/exploration/gaussian.ipynb#ch0000011?line=0'>1</a>\u001b[0m \u001b[39mimport\u001b[39;00m \u001b[39mmatplotlib\u001b[39;00m\u001b[39m.\u001b[39;00m\u001b[39mpyplot\u001b[39;00m \u001b[39mas\u001b[39;00m \u001b[39mplt\u001b[39;00m\n\u001b[0;32m----> <a href='vscode-notebook-cell:/Users/harrywiner/University/Year3/ADS/ADS-Coursework/exploration/gaussian.ipynb#ch0000011?line=2'>3</a>\u001b[0m plt\u001b[39m.\u001b[39;49mscatter(wind_fit[\u001b[39m0\u001b[39;49m])\n",
      "\u001b[0;31mTypeError\u001b[0m: scatter() missing 1 required positional argument: 'y'"
     ]
    }
   ],
   "source": [
    "pca.fit(scaled_df)\n",
    "pca_df = pca.transform(scaled_df)\n",
    "print(\"The varience encoded by this PCA projection is:\")\n",
    "print(pca.explained_variance_)\n",
    "# Plot\n",
    "scatter = ax1.scatter(pca_df[:, 0], pca_df[:, 1],\n",
    "                    c=df_labels.cat.codes, cmap='Paired', s=8)\n",
    "legend1 = ax1.legend(*scatter.legend_elements(), loc='center left',\n",
    "                    bbox_to_anchor=(1, 0.5), title=\"Technology\")\n",
    "ax1.add_artist(legend1)\n",
    "ax1.set_title(\"Data reduced by PCA\")\n",
    "plt.xlabel('PC1')\n",
    "plt.ylabel('PC2')\n",
    "    \n",
    "import matplotlib.pyplot as plt\n",
    "\n",
    "plt.scatter(wind_fit[0])"
   ]
  },
  {
   "cell_type": "code",
   "execution_count": 49,
   "metadata": {},
   "outputs": [],
   "source": [
    "thresh_wind = np.array([np.where(frame < wind_speed_frame.max() * .3, 0, frame)for frame in wind_speed ])"
   ]
  },
  {
   "cell_type": "code",
   "execution_count": 53,
   "metadata": {},
   "outputs": [
    {
     "data": {
      "image/png": "[encoded data removed]",
      "text/plain": [
       "<Figure size 432x288 with 1 Axes>"
      ]
     },
     "metadata": {
      "needs_background": "light"
     },
     "output_type": "display_data"
    }
   ],
   "source": [
    "plt.contourf(longitude, latitude, thresh_wind[0])\n",
    "plt.show()"
   ]
  }
 ],
 "metadata": {
  "interpreter": {
   "hash": "aee8b7b246df8f9039afb4144a1f6fd8d2ca17a180786b69acc140d282b71a49"
  },
  "kernelspec": {
   "display_name": "Python 3.10.2 64-bit",
   "language": "python",
   "name": "python3"
  },
  "language_info": {
   "codemirror_mode": {
    "name": "ipython",
    "version": 3
   },
   "file_extension": ".py",
   "mimetype": "text/x-python",
   "name": "python",
   "nbconvert_exporter": "python",
   "pygments_lexer": "ipython3",
   "version": "3.10.2"
  },
  "orig_nbformat": 4
 },
 "nbformat": 4,
 "nbformat_minor": 2
}
