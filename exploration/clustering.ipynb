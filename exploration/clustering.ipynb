{
 "cells": [
  {
   "cell_type": "markdown",
   "metadata": {},
   "source": [
    "# Clustering\n",
    "My goal is to put a point on the map where the cyclone centre probably is \\\n",
    "My general idea is to iterate through the dataset doing K-means with K=1, for obvious reasons, including a bias for higher magnitudes \n",
    "\n",
    "I simply need to do a maximisation step, as the expectation will always yield the one and only cluster assignment.\n",
    "\n",
    "The following is the unmodified K-means M-step.\n",
    "$$\n",
    "\\begin{equation}\n",
    "    \\bold{\\mu}_k = \\frac{\\sum_nr_{nk}\\bold{x}_n}{\\sum_n r_{nk}}\n",
    "\\end{equation}\n",
    "$$\n",
    "\n",
    "the $\\sum_n r_{nk}$ indicates that we are excluding any values not in the cluster. When there is only one cluster, they are all assigned to it, so this will be effectively mulitplying every value by 1. So in the special case of K=1, the following holds\n",
    "\n",
    "$$\n",
    "\\mu_k = \\frac{\\sum_n\\bold{x}_n}{n}\n",
    "$$\n",
    "\n",
    "Next I will add in a bias term for the magnitudes of each point. This takes the form of $f(\\bold{x}_n)$ which acts as a responsibility of the point on the resulting mean. To cancel out the bias when calculating the mean, we must divide by the whole responsibility of the dataset. \n",
    "\n",
    "In order to exacerbate the difference between the low values and high ones, I introduce an order, $ \\alpha $ on to the responsibility. This will make the low values insignificant compared to the high values at the centre of the cyclone. \n",
    "\n",
    "$$\n",
    "\\mu_k = \\frac{\\sum_n f(\\bold{x}_n)^\\alpha \\bold{x}_n}{\\sum_n f(\\bold{x}_n)^\\alpha}\n",
    "$$\n"
   ]
  },
  {
   "cell_type": "code",
   "execution_count": 2,
   "metadata": {},
   "outputs": [],
   "source": [
    "import netCDF4 as nc\n",
    "import numpy as np\n",
    "import matplotlib.pyplot as plt\n",
    "from scipy import stats\n",
    "import imageio\n",
    "import os"
   ]
  },
  {
   "cell_type": "code",
   "execution_count": 3,
   "metadata": {},
   "outputs": [
    {
     "ename": "FileNotFoundError",
     "evalue": "[Errno 2] No such file or directory: b'../data/1991TS/fg.T1Hmax.UMRA2T.19910428_19910501.BOB01.4p4km.nc'",
     "output_type": "error",
     "traceback": [
      "\u001b[1;31m---------------------------------------------------------------------------\u001b[0m",
      "\u001b[1;31mFileNotFoundError\u001b[0m                         Traceback (most recent call last)",
      "\u001b[1;32mc:\\Users\\Bigzp\\Desktop\\Coding\\MATLAB\\AppliedStatistics\\ADS-Coursework\\exploration\\clustering.ipynb Cell 3'\u001b[0m in \u001b[0;36m<module>\u001b[1;34m\u001b[0m\n\u001b[0;32m      <a href='vscode-notebook-cell:/c%3A/Users/Bigzp/Desktop/Coding/MATLAB/AppliedStatistics/ADS-Coursework/exploration/clustering.ipynb#ch0000002?line=1'>2</a>\u001b[0m \u001b[39m# WIND SPEED OF GUST\u001b[39;00m\n\u001b[0;32m      <a href='vscode-notebook-cell:/c%3A/Users/Bigzp/Desktop/Coding/MATLAB/AppliedStatistics/ADS-Coursework/exploration/clustering.ipynb#ch0000002?line=2'>3</a>\u001b[0m FG \u001b[39m=\u001b[39m \u001b[39m\"\u001b[39m\u001b[39mfg.T1Hmax.UMRA2T.19910428_19910501.BOB01.4p4km.nc\u001b[39m\u001b[39m\"\u001b[39m\n\u001b[1;32m----> <a href='vscode-notebook-cell:/c%3A/Users/Bigzp/Desktop/Coding/MATLAB/AppliedStatistics/ADS-Coursework/exploration/clustering.ipynb#ch0000002?line=4'>5</a>\u001b[0m fg \u001b[39m=\u001b[39m nc\u001b[39m.\u001b[39;49mDataset(\u001b[39mf\u001b[39;49m\u001b[39m\"\u001b[39;49m\u001b[39m{\u001b[39;49;00mPATH\u001b[39m}\u001b[39;49;00m\u001b[39m/\u001b[39;49m\u001b[39m{\u001b[39;49;00mFG\u001b[39m}\u001b[39;49;00m\u001b[39m\"\u001b[39;49m)\n\u001b[0;32m      <a href='vscode-notebook-cell:/c%3A/Users/Bigzp/Desktop/Coding/MATLAB/AppliedStatistics/ADS-Coursework/exploration/clustering.ipynb#ch0000002?line=5'>6</a>\u001b[0m \u001b[39mprint\u001b[39m(fg)\n",
      "File \u001b[1;32msrc\\netCDF4\\_netCDF4.pyx:2307\u001b[0m, in \u001b[0;36mnetCDF4._netCDF4.Dataset.__init__\u001b[1;34m()\u001b[0m\n",
      "File \u001b[1;32msrc\\netCDF4\\_netCDF4.pyx:1925\u001b[0m, in \u001b[0;36mnetCDF4._netCDF4._ensure_nc_success\u001b[1;34m()\u001b[0m\n",
      "\u001b[1;31mFileNotFoundError\u001b[0m: [Errno 2] No such file or directory: b'../data/1991TS/fg.T1Hmax.UMRA2T.19910428_19910501.BOB01.4p4km.nc'"
     ]
    }
   ],
   "source": [
    "PATH = \"../data/1991TS\"\n",
    "# WIND SPEED OF GUST\n",
    "FG = \"fg.T1Hmax.UMRA2T.19910428_19910501.BOB01.4p4km.nc\"\n",
    "\n",
    "fg = nc.Dataset(f\"{PATH}/{FG}\")\n",
    "print(fg)"
   ]
  },
  {
   "cell_type": "code",
   "execution_count": 5,
   "metadata": {},
   "outputs": [],
   "source": [
    "latitude = fg.variables[\"latitude\"][:]\n",
    "longitude = fg.variables[\"longitude\"][:]\n",
    "wind_speed = fg.variables[\"wind_speed_of_gust\"][:][0]\n",
    "\n",
    "# a single frame\n",
    "var_frame = wind_speed[0]"
   ]
  },
  {
   "cell_type": "markdown",
   "metadata": {},
   "source": [
    "## Simplementation"
   ]
  },
  {
   "cell_type": "code",
   "execution_count": 63,
   "metadata": {},
   "outputs": [],
   "source": [
    "def mag_m_step(frame: np.array, long: np.array, lat: np.array):\n",
    "    # The sum of responsibilities in the denominator\n",
    "    sum_resp = 0\n",
    "    # weighted points, the numerator\n",
    "    xs = [0, 0]\n",
    "    # The order put on the responsibility\n",
    "    alpha = 4\n",
    "    \n",
    "    for x in range(len(lat)):\n",
    "        for y in range(len(long)):\n",
    "            if x < frame.shape[0] and y < frame.shape[1]:\n",
    "                fn = frame[x][y]\n",
    "                xs += np.multiply([long[y], lat[x]], fn**alpha)\n",
    "                \n",
    "                sum_resp += fn**alpha\n",
    "            \n",
    "    return np.divide(xs, sum_resp)"
   ]
  },
  {
   "cell_type": "markdown",
   "metadata": {},
   "source": [
    "## Results\n",
    "I am expecting the centroid to be around: `(86.5, 16)`"
   ]
  },
  {
   "cell_type": "code",
   "execution_count": 37,
   "metadata": {},
   "outputs": [
    {
     "name": "stdout",
     "output_type": "stream",
     "text": [
      "Predicted Centroid: [88.45278709 21.46092893]\n"
     ]
    }
   ],
   "source": [
    "centroid = mag_m_step(var_frame, longitude, latitude)\n",
    "\n",
    "print(f\"Predicted Centroid: {centroid}\")"
   ]
  },
  {
   "cell_type": "code",
   "execution_count": 50,
   "metadata": {},
   "outputs": [],
   "source": [
    "centroids = [mag_m_step(frame, longitude, latitude) for frame in wind_speed]"
   ]
  },
  {
   "cell_type": "code",
   "execution_count": 58,
   "metadata": {},
   "outputs": [],
   "source": [
    "def visualise(output_filename: str, long: np.ndarray, lat: np.ndarray, variable: np.ndarray, centroids=None):\n",
    "    \"\"\"\n",
    "    just a bog standard visualisation function for putting a time series variable on a long vs lat graph\n",
    "    variable should be a time series of frames\n",
    "    \"\"\"\n",
    "    filenames = []\n",
    "    maxlevel = variable.max()\n",
    "    minlevel = variable.min()\n",
    "    steps = 7\n",
    "    levels = [((maxlevel - minlevel)/steps) * val for val in list(range(steps))]\n",
    "    \n",
    "    for idx, frame in enumerate(variable):\n",
    "        fig, ax = plt.subplots()\n",
    "        cntr = ax.contourf(long, lat, frame, levels=levels)\n",
    "        fig.colorbar(cntr, ax=ax)\n",
    "        if centroids:\n",
    "            ax.plot(centroids[idx][0], centroids[idx][1], \"ro\")\n",
    "        filename = f\"vis/sc{idx}.png\"\n",
    "        filenames.append(filename)\n",
    "        plt.savefig(filename)\n",
    "        plt.close()\n",
    "        \n",
    "    # build gif\n",
    "    with imageio.get_writer(f\"vis/{output_filename}\", mode='I') as writer:\n",
    "        for filename in filenames:\n",
    "            image = imageio.imread(filename)\n",
    "            writer.append_data(image)\n",
    "            \n",
    "    # Remove files\n",
    "    for filename in set(filenames):\n",
    "        os.remove(filename)\n",
    "        \n"
   ]
  },
  {
   "cell_type": "code",
   "execution_count": 38,
   "metadata": {},
   "outputs": [
    {
     "data": {
      "image/png": "[encoded data removed]",
      "text/plain": [
       "<Figure size 432x288 with 2 Axes>"
      ]
     },
     "metadata": {
      "needs_background": "light"
     },
     "output_type": "display_data"
    },
    {
     "data": {
      "image/png": "[encoded data removed]",
      "text/plain": [
       "<Figure size 432x288 with 2 Axes>"
      ]
     },
     "metadata": {
      "needs_background": "light"
     },
     "output_type": "display_data"
    }
   ],
   "source": [
    "# plot graph\n",
    "fig, ax = plt.subplots()\n",
    "cntr = ax.contourf(longitude, latitude, var_frame)\n",
    "fig.colorbar(cntr, ax=ax)\n",
    "\n",
    "# plot centroid\n",
    "ax.plot(centroid[0], centroid[1], \"ro\")\n",
    "\n",
    "plt.show()# plot graph\n",
    "fig, ax = plt.subplots()\n",
    "cntr = ax.contourf(longitude, latitude, var_frame)\n",
    "fig.colorbar(cntr, ax=ax)\n",
    "\n",
    "# plot centroid\n",
    "ax.plot(centroid[0], centroid[1], \"ro\")\n",
    "\n",
    "plt.show()"
   ]
  },
  {
   "cell_type": "code",
   "execution_count": 51,
   "metadata": {},
   "outputs": [],
   "source": [
    "visualise(\"centroids.gif\", longitude, latitude, wind_speed)"
   ]
  },
  {
   "cell_type": "markdown",
   "metadata": {},
   "source": [
    "![Centroids](./vis/centroids.gif)"
   ]
  },
  {
   "cell_type": "markdown",
   "metadata": {},
   "source": [
    "## Threshold\n",
    "\n",
    "There is a bias northward when the noise increases in that direction. Seeing as there is a significant difference between the cyclone and the noise, I can significantly threshold. I will threshold at 50% of the maximum value"
   ]
  },
  {
   "cell_type": "code",
   "execution_count": 55,
   "metadata": {},
   "outputs": [],
   "source": [
    "maximum = wind_speed.max()\n",
    "thresh_wind = np.array([np.where(frame < maximum * .5, 0, frame)for frame in wind_speed ])\n",
    "\n",
    "thresh_centroids = [mag_m_step(frame, longitude, latitude) for frame in thresh_wind]"
   ]
  },
  {
   "cell_type": "code",
   "execution_count": 62,
   "metadata": {},
   "outputs": [],
   "source": [
    "visualise(\"threshold.gif\", longitude, latitude, thresh_wind, centroids=thresh_centroids)"
   ]
  },
  {
   "cell_type": "markdown",
   "metadata": {},
   "source": [
    "![Centroids](./vis/threshold.gif?arg) ![Centroids](./vis/centroid_threshold.gif?arg)"
   ]
  }
 ],
 "metadata": {
  "interpreter": {
   "hash": "aee8b7b246df8f9039afb4144a1f6fd8d2ca17a180786b69acc140d282b71a49"
  },
  "kernelspec": {
   "display_name": "Python 3.10.2 64-bit",
   "language": "python",
   "name": "python3"
  },
  "language_info": {
   "codemirror_mode": {
    "name": "ipython",
    "version": 3
   },
   "file_extension": ".py",
   "mimetype": "text/x-python",
   "name": "python",
   "nbconvert_exporter": "python",
   "pygments_lexer": "ipython3",
   "version": "3.9.9"
  },
  "orig_nbformat": 4
 },
 "nbformat": 4,
 "nbformat_minor": 2
}
