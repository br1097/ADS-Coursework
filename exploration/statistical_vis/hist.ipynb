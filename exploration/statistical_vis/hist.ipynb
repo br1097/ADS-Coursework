{
 "cells": [
  {
   "cell_type": "code",
   "execution_count": 27,
   "metadata": {},
   "outputs": [],
   "source": [
    "import netCDF4 as nc\n",
    "import numpy as np\n",
    "import matplotlib.pyplot as plt\n",
    "from scipy import stats\n",
    "import imageio\n",
    "import os\n",
    "import pandas as pd\n",
    "import openpyxl\n",
    "import datacompy as cp"
   ]
  },
  {
   "cell_type": "markdown",
   "metadata": {},
   "source": [
    "## Data extraction and Raw analysis (Hist ttest etc...)"
   ]
  },
  {
   "cell_type": "code",
   "execution_count": 9,
   "metadata": {},
   "outputs": [],
   "source": [
    "PATH = \"../../sample_data/1997TS\"\n",
    "# WIND SPEED OF GUST\n",
    "FG = \"fg.T1Hmax.UMRA2T.19970518_19970521.TC01B.1p5km.nc\"\n",
    "FG1 = \"fg.T1Hmax.UMRA2T.19970518_19970521.TC01B.4p4km.nc\"\n",
    "FG2 = \"fg_265_1997.npz\"\n",
    "\n",
    "df = nc.Dataset(f\"{PATH}/{FG}\")\n",
    "df1 = nc.Dataset(f\"{PATH}/{FG1}\")\n",
    "df2 = np.load(f\"{PATH}/{FG2}\", allow_pickle=True)"
   ]
  },
  {
   "cell_type": "code",
   "execution_count": 30,
   "metadata": {},
   "outputs": [
    {
     "ename": "AttributeError",
     "evalue": "'MaskedArray' object has no attribute 'head'",
     "output_type": "error",
     "traceback": [
      "\u001b[1;31m---------------------------------------------------------------------------\u001b[0m",
      "\u001b[1;31mAttributeError\u001b[0m                            Traceback (most recent call last)",
      "\u001b[1;32mc:\\Users\\Bigzp\\Desktop\\Coding\\MATLAB\\AppliedStatistics\\ADS-Coursework\\exploration\\statistical_vis\\hist.ipynb Cell 4'\u001b[0m in \u001b[0;36m<module>\u001b[1;34m\u001b[0m\n\u001b[0;32m      <a href='vscode-notebook-cell:/c%3A/Users/Bigzp/Desktop/Coding/MATLAB/AppliedStatistics/ADS-Coursework/exploration/statistical_vis/hist.ipynb#ch0000030?line=0'>1</a>\u001b[0m df1fg\u001b[39m=\u001b[39m df\u001b[39m.\u001b[39mvariables[\u001b[39m'\u001b[39m\u001b[39mwind_speed_of_gust\u001b[39m\u001b[39m'\u001b[39m][\u001b[39m0\u001b[39m]\n\u001b[0;32m      <a href='vscode-notebook-cell:/c%3A/Users/Bigzp/Desktop/Coding/MATLAB/AppliedStatistics/ADS-Coursework/exploration/statistical_vis/hist.ipynb#ch0000030?line=1'>2</a>\u001b[0m df1\u001b[39m.\u001b[39mvariables[\u001b[39m'\u001b[39m\u001b[39mwind_speed_of_gust\u001b[39m\u001b[39m'\u001b[39m]\n\u001b[1;32m----> <a href='vscode-notebook-cell:/c%3A/Users/Bigzp/Desktop/Coding/MATLAB/AppliedStatistics/ADS-Coursework/exploration/statistical_vis/hist.ipynb#ch0000030?line=2'>3</a>\u001b[0m df1fg\u001b[39m.\u001b[39;49mhead(\u001b[39m10\u001b[39m)\n",
      "\u001b[1;31mAttributeError\u001b[0m: 'MaskedArray' object has no attribute 'head'"
     ]
    }
   ],
   "source": [
    "df1fg= df.variables['wind_speed_of_gust'][0]\n",
    "df1.variables['wind_speed_of_gust']\n",
    "df1fg.head(10)"
   ]
  },
  {
   "cell_type": "code",
   "execution_count": 10,
   "metadata": {},
   "outputs": [
    {
     "name": "stdout",
     "output_type": "stream",
     "text": [
      "(1427671,)\n",
      "(382,)\n"
     ]
    }
   ],
   "source": [
    "lst = df2.files\n",
    "# ls2 = lst.isnan()\n",
    "hist_list = []\n",
    "avg_list = []\n",
    "for item in lst:\n",
    "    x = df2[item]\n",
    "    #print(np.shape(x[300]))\n",
    "    for arr in x: \n",
    "        if len(arr[~np.isnan(arr)]) != 0:\n",
    "            avg_list.append(sum(arr[~np.isnan(arr)])/len(arr[~np.isnan(arr)]))\n",
    "        #print(np.shape(arr))\n",
    "        #print(arr[~np.isnan(arr)])\n",
    "        #print(np.shape(arr[~np.isnan(arr)]))\n",
    "        for val in arr[~np.isnan(arr)]:\n",
    "            #print(val)\n",
    "            hist_list.append(val)\n",
    "print(np.shape(hist_list))\n",
    "print(np.shape(avg_list))\n"
   ]
  },
  {
   "cell_type": "code",
   "execution_count": 73,
   "metadata": {},
   "outputs": [
    {
     "data": {
      "image/png": "[encoded data removed]",
      "text/plain": [
       "<Figure size 432x288 with 1 Axes>"
      ]
     },
     "metadata": {
      "needs_background": "light"
     },
     "output_type": "display_data"
    }
   ],
   "source": [
    "plt.hist(avg_list)\n",
    "plt.show()"
   ]
  },
  {
   "cell_type": "code",
   "execution_count": 115,
   "metadata": {},
   "outputs": [
    {
     "data": {
      "image/png": "[encoded data removed]",
      "text/plain": [
       "<Figure size 432x288 with 1 Axes>"
      ]
     },
     "metadata": {
      "needs_background": "light"
     },
     "output_type": "display_data"
    }
   ],
   "source": [
    "plt.hist(hist_list, bins=50)\n",
    "plt.ylim(ymin = 0)\n",
    "plt.xlabel('Wind Speed of Gust m/s')\n",
    "plt.title('Distribution of cleaned and isolated 4.4km data for 1997TS')\n",
    "plt.show()"
   ]
  },
  {
   "cell_type": "code",
   "execution_count": 12,
   "metadata": {},
   "outputs": [],
   "source": [
    "ens_9_df = []\n",
    "for i in range(0,48):\n",
    "    ws_1p5 = df.variables[\"wind_speed_of_gust\"][i][8]\n",
    "    ens_9_df.append(ws_1p5)\n"
   ]
  },
  {
   "cell_type": "code",
   "execution_count": 17,
   "metadata": {},
   "outputs": [],
   "source": [
    "ens_9_1p5 = np.array(ens_9_df)\n",
    "ens_9_1p5 = ens_9_1p5.flatten()\n",
    "ens_9_1p5Clean = np.array([np.where(val <= 26.5, np.nan, val)for val in ens_9_1p5 ])"
   ]
  },
  {
   "cell_type": "code",
   "execution_count": 116,
   "metadata": {},
   "outputs": [
    {
     "data": {
      "image/png": "[encoded data removed]",
      "text/plain": [
       "<Figure size 432x288 with 1 Axes>"
      ]
     },
     "metadata": {
      "needs_background": "light"
     },
     "output_type": "display_data"
    }
   ],
   "source": [
    "plt.hist(ens_9_1p5Clean[~np.isnan(ens_9_1p5Clean)], bins=50)\n",
    "plt.ylim(ymin = 0)\n",
    "plt.xlabel('Wind Speed of Gust m/s')\n",
    "plt.title('Distribution of cleaned and isolated 1.5km data for 1997TS')\n",
    "plt.show()"
   ]
  },
  {
   "cell_type": "code",
   "execution_count": 14,
   "metadata": {},
   "outputs": [
    {
     "ename": "NameError",
     "evalue": "name 'ens_9_1p5Clean' is not defined",
     "output_type": "error",
     "traceback": [
      "\u001b[1;31m---------------------------------------------------------------------------\u001b[0m",
      "\u001b[1;31mNameError\u001b[0m                                 Traceback (most recent call last)",
      "\u001b[1;32mc:\\Users\\Bigzp\\Desktop\\Coding\\MATLAB\\AppliedStatistics\\ADS-Coursework\\exploration\\statistical_vis\\hist.ipynb Cell 11'\u001b[0m in \u001b[0;36m<module>\u001b[1;34m\u001b[0m\n\u001b[1;32m----> <a href='vscode-notebook-cell:/c%3A/Users/Bigzp/Desktop/Coding/MATLAB/AppliedStatistics/ADS-Coursework/exploration/statistical_vis/hist.ipynb#ch0000028?line=0'>1</a>\u001b[0m df_1p5_f9 \u001b[39m=\u001b[39m ens_9_1p5Clean[\u001b[39m~\u001b[39mnp\u001b[39m.\u001b[39misnan(ens_9_1p5Clean)]\n\u001b[0;32m      <a href='vscode-notebook-cell:/c%3A/Users/Bigzp/Desktop/Coding/MATLAB/AppliedStatistics/ADS-Coursework/exploration/statistical_vis/hist.ipynb#ch0000028?line=1'>2</a>\u001b[0m df_4p4_f9 \u001b[39m=\u001b[39m hist_list\n",
      "\u001b[1;31mNameError\u001b[0m: name 'ens_9_1p5Clean' is not defined"
     ]
    }
   ],
   "source": [
    "df_1p5_f9 = ens_9_1p5Clean[~np.isnan(ens_9_1p5Clean)]\n",
    "df_4p4_f9 = hist_list"
   ]
  },
  {
   "cell_type": "code",
   "execution_count": null,
   "metadata": {},
   "outputs": [
    {
     "name": "stdout",
     "output_type": "stream",
     "text": [
      "36.455648504589874 8.793266759905569 34.1749 7.882482\n",
      "(168850,) (1427671,)\n",
      "Ttest_indResult(statistic=111.00664033552788, pvalue=0.0)\n",
      "Ttest_indResult(statistic=101.85047040107483, pvalue=0.0)\n"
     ]
    }
   ],
   "source": [
    "print(np.mean(df_1p5_f9), np.std(df_1p5_f9), np.mean(df_4p4_f9), np.std(df_4p4_f9))\n",
    "print(np.shape(df_1p5_f9), np.shape(df_4p4_f9))\n",
    "print(stats.ttest_ind(df_1p5_f9,df_4p4_f9))\n",
    "print(stats.ttest_ind_from_stats(36.455648504589874, 8.793266759905569, 168850, 34.1749, 7.882482, 1427671, equal_var = False))"
   ]
  },
  {
   "cell_type": "markdown",
   "metadata": {},
   "source": [
    "## Clustering "
   ]
  },
  {
   "cell_type": "code",
   "execution_count": 4,
   "metadata": {},
   "outputs": [],
   "source": [
    "from gettext import npgettext\n",
    "import re\n",
    "import pandas as pd\n",
    "import numpy as np\n",
    "from pandas.core.frame import DataFrame\n",
    "import matplotlib.pyplot as plt\n",
    "import umap\n",
    "from sklearn import preprocessing\n",
    "from sklearn.decomposition import PCA, TruncatedSVD\n",
    "from sklearn.cluster import DBSCAN, KMeans, SpectralClustering\n",
    "from sklearn.manifold import TSNE\n",
    "import pickle\n",
    "from sklearn.metrics.cluster import normalized_mutual_info_score as nmi\n",
    "import plotly.express as px\n",
    "from sklearn.neighbors import NearestNeighbors\n",
    "from sklearn.metrics import silhouette_score"
   ]
  },
  {
   "cell_type": "code",
   "execution_count": 5,
   "metadata": {},
   "outputs": [
    {
     "data": {
      "image/png": "[encoded data removed]",
      "text/plain": [
       "<Figure size 432x288 with 4 Axes>"
      ]
     },
     "metadata": {
      "needs_background": "light"
     },
     "output_type": "display_data"
    }
   ],
   "source": [
    "fig, ((ax1, ax2), (ax3, ax4)) = plt.subplots(2, 2)"
   ]
  },
  {
   "cell_type": "code",
   "execution_count": 21,
   "metadata": {},
   "outputs": [
    {
     "ename": "ValueError",
     "evalue": "Expected 2D array, got 1D array instead:\narray=[4.375 4.375 4.25  ... 4.375 4.75  5.125].\nReshape your data either using array.reshape(-1, 1) if your data has a single feature or array.reshape(1, -1) if it contains a single sample.",
     "output_type": "error",
     "traceback": [
      "\u001b[1;31m---------------------------------------------------------------------------\u001b[0m",
      "\u001b[1;31mValueError\u001b[0m                                Traceback (most recent call last)",
      "\u001b[1;32mc:\\Users\\Bigzp\\Desktop\\Coding\\MATLAB\\AppliedStatistics\\ADS-Coursework\\exploration\\statistical_vis\\hist.ipynb Cell 16'\u001b[0m in \u001b[0;36m<module>\u001b[1;34m\u001b[0m\n\u001b[0;32m      <a href='vscode-notebook-cell:/c%3A/Users/Bigzp/Desktop/Coding/MATLAB/AppliedStatistics/ADS-Coursework/exploration/statistical_vis/hist.ipynb#ch0000023?line=0'>1</a>\u001b[0m kmeans \u001b[39m=\u001b[39m KMeans(n_clusters\u001b[39m=\u001b[39m\u001b[39m5\u001b[39m, random_state\u001b[39m=\u001b[39m\u001b[39m0\u001b[39m)\n\u001b[1;32m----> <a href='vscode-notebook-cell:/c%3A/Users/Bigzp/Desktop/Coding/MATLAB/AppliedStatistics/ADS-Coursework/exploration/statistical_vis/hist.ipynb#ch0000023?line=1'>2</a>\u001b[0m y_pred_Kmeans \u001b[39m=\u001b[39m kmeans\u001b[39m.\u001b[39;49mfit_predict(ens_9_1p5)\n\u001b[0;32m      <a href='vscode-notebook-cell:/c%3A/Users/Bigzp/Desktop/Coding/MATLAB/AppliedStatistics/ADS-Coursework/exploration/statistical_vis/hist.ipynb#ch0000023?line=2'>3</a>\u001b[0m scatter \u001b[39m=\u001b[39m ax2\u001b[39m.\u001b[39mscatter(df_1p5_f9,\n\u001b[0;32m      <a href='vscode-notebook-cell:/c%3A/Users/Bigzp/Desktop/Coding/MATLAB/AppliedStatistics/ADS-Coursework/exploration/statistical_vis/hist.ipynb#ch0000023?line=3'>4</a>\u001b[0m                         c\u001b[39m=\u001b[39my_pred_Kmeans, cmap\u001b[39m=\u001b[39m\u001b[39m'\u001b[39m\u001b[39mPaired\u001b[39m\u001b[39m'\u001b[39m, label\u001b[39m=\u001b[39m\u001b[39m'\u001b[39m\u001b[39minline label\u001b[39m\u001b[39m'\u001b[39m, s\u001b[39m=\u001b[39m\u001b[39m8\u001b[39m)\n\u001b[0;32m      <a href='vscode-notebook-cell:/c%3A/Users/Bigzp/Desktop/Coding/MATLAB/AppliedStatistics/ADS-Coursework/exploration/statistical_vis/hist.ipynb#ch0000023?line=4'>5</a>\u001b[0m legend3 \u001b[39m=\u001b[39m ax2\u001b[39m.\u001b[39mlegend(\u001b[39m*\u001b[39mscatter\u001b[39m.\u001b[39mlegend_elements(),\n\u001b[0;32m      <a href='vscode-notebook-cell:/c%3A/Users/Bigzp/Desktop/Coding/MATLAB/AppliedStatistics/ADS-Coursework/exploration/statistical_vis/hist.ipynb#ch0000023?line=5'>6</a>\u001b[0m                         loc\u001b[39m=\u001b[39m\u001b[39m'\u001b[39m\u001b[39mcenter left\u001b[39m\u001b[39m'\u001b[39m, bbox_to_anchor\u001b[39m=\u001b[39m(\u001b[39m1\u001b[39m, \u001b[39m0.5\u001b[39m), title\u001b[39m=\u001b[39m\u001b[39m\"\u001b[39m\u001b[39mClass\u001b[39m\u001b[39m\"\u001b[39m)\n",
      "File \u001b[1;32m~\\anaconda3\\envs\\ADS\\lib\\site-packages\\sklearn\\cluster\\_kmeans.py:1255\u001b[0m, in \u001b[0;36mKMeans.fit_predict\u001b[1;34m(self, X, y, sample_weight)\u001b[0m\n\u001b[0;32m   <a href='file:///c%3A/Users/Bigzp/anaconda3/envs/ADS/lib/site-packages/sklearn/cluster/_kmeans.py?line=1231'>1232</a>\u001b[0m \u001b[39mdef\u001b[39;00m \u001b[39mfit_predict\u001b[39m(\u001b[39mself\u001b[39m, X, y\u001b[39m=\u001b[39m\u001b[39mNone\u001b[39;00m, sample_weight\u001b[39m=\u001b[39m\u001b[39mNone\u001b[39;00m):\n\u001b[0;32m   <a href='file:///c%3A/Users/Bigzp/anaconda3/envs/ADS/lib/site-packages/sklearn/cluster/_kmeans.py?line=1232'>1233</a>\u001b[0m     \u001b[39m\"\"\"Compute cluster centers and predict cluster index for each sample.\u001b[39;00m\n\u001b[0;32m   <a href='file:///c%3A/Users/Bigzp/anaconda3/envs/ADS/lib/site-packages/sklearn/cluster/_kmeans.py?line=1233'>1234</a>\u001b[0m \n\u001b[0;32m   <a href='file:///c%3A/Users/Bigzp/anaconda3/envs/ADS/lib/site-packages/sklearn/cluster/_kmeans.py?line=1234'>1235</a>\u001b[0m \u001b[39m    Convenience method; equivalent to calling fit(X) followed by\u001b[39;00m\n\u001b[1;32m   (...)\u001b[0m\n\u001b[0;32m   <a href='file:///c%3A/Users/Bigzp/anaconda3/envs/ADS/lib/site-packages/sklearn/cluster/_kmeans.py?line=1252'>1253</a>\u001b[0m \u001b[39m        Index of the cluster each sample belongs to.\u001b[39;00m\n\u001b[0;32m   <a href='file:///c%3A/Users/Bigzp/anaconda3/envs/ADS/lib/site-packages/sklearn/cluster/_kmeans.py?line=1253'>1254</a>\u001b[0m \u001b[39m    \"\"\"\u001b[39;00m\n\u001b[1;32m-> <a href='file:///c%3A/Users/Bigzp/anaconda3/envs/ADS/lib/site-packages/sklearn/cluster/_kmeans.py?line=1254'>1255</a>\u001b[0m     \u001b[39mreturn\u001b[39;00m \u001b[39mself\u001b[39;49m\u001b[39m.\u001b[39;49mfit(X, sample_weight\u001b[39m=\u001b[39;49msample_weight)\u001b[39m.\u001b[39mlabels_\n",
      "File \u001b[1;32m~\\anaconda3\\envs\\ADS\\lib\\site-packages\\sklearn\\cluster\\_kmeans.py:1137\u001b[0m, in \u001b[0;36mKMeans.fit\u001b[1;34m(self, X, y, sample_weight)\u001b[0m\n\u001b[0;32m   <a href='file:///c%3A/Users/Bigzp/anaconda3/envs/ADS/lib/site-packages/sklearn/cluster/_kmeans.py?line=1110'>1111</a>\u001b[0m \u001b[39mdef\u001b[39;00m \u001b[39mfit\u001b[39m(\u001b[39mself\u001b[39m, X, y\u001b[39m=\u001b[39m\u001b[39mNone\u001b[39;00m, sample_weight\u001b[39m=\u001b[39m\u001b[39mNone\u001b[39;00m):\n\u001b[0;32m   <a href='file:///c%3A/Users/Bigzp/anaconda3/envs/ADS/lib/site-packages/sklearn/cluster/_kmeans.py?line=1111'>1112</a>\u001b[0m     \u001b[39m\"\"\"Compute k-means clustering.\u001b[39;00m\n\u001b[0;32m   <a href='file:///c%3A/Users/Bigzp/anaconda3/envs/ADS/lib/site-packages/sklearn/cluster/_kmeans.py?line=1112'>1113</a>\u001b[0m \n\u001b[0;32m   <a href='file:///c%3A/Users/Bigzp/anaconda3/envs/ADS/lib/site-packages/sklearn/cluster/_kmeans.py?line=1113'>1114</a>\u001b[0m \u001b[39m    Parameters\u001b[39;00m\n\u001b[1;32m   (...)\u001b[0m\n\u001b[0;32m   <a href='file:///c%3A/Users/Bigzp/anaconda3/envs/ADS/lib/site-packages/sklearn/cluster/_kmeans.py?line=1134'>1135</a>\u001b[0m \u001b[39m        Fitted estimator.\u001b[39;00m\n\u001b[0;32m   <a href='file:///c%3A/Users/Bigzp/anaconda3/envs/ADS/lib/site-packages/sklearn/cluster/_kmeans.py?line=1135'>1136</a>\u001b[0m \u001b[39m    \"\"\"\u001b[39;00m\n\u001b[1;32m-> <a href='file:///c%3A/Users/Bigzp/anaconda3/envs/ADS/lib/site-packages/sklearn/cluster/_kmeans.py?line=1136'>1137</a>\u001b[0m     X \u001b[39m=\u001b[39m \u001b[39mself\u001b[39;49m\u001b[39m.\u001b[39;49m_validate_data(\n\u001b[0;32m   <a href='file:///c%3A/Users/Bigzp/anaconda3/envs/ADS/lib/site-packages/sklearn/cluster/_kmeans.py?line=1137'>1138</a>\u001b[0m         X,\n\u001b[0;32m   <a href='file:///c%3A/Users/Bigzp/anaconda3/envs/ADS/lib/site-packages/sklearn/cluster/_kmeans.py?line=1138'>1139</a>\u001b[0m         accept_sparse\u001b[39m=\u001b[39;49m\u001b[39m\"\u001b[39;49m\u001b[39mcsr\u001b[39;49m\u001b[39m\"\u001b[39;49m,\n\u001b[0;32m   <a href='file:///c%3A/Users/Bigzp/anaconda3/envs/ADS/lib/site-packages/sklearn/cluster/_kmeans.py?line=1139'>1140</a>\u001b[0m         dtype\u001b[39m=\u001b[39;49m[np\u001b[39m.\u001b[39;49mfloat64, np\u001b[39m.\u001b[39;49mfloat32],\n\u001b[0;32m   <a href='file:///c%3A/Users/Bigzp/anaconda3/envs/ADS/lib/site-packages/sklearn/cluster/_kmeans.py?line=1140'>1141</a>\u001b[0m         order\u001b[39m=\u001b[39;49m\u001b[39m\"\u001b[39;49m\u001b[39mC\u001b[39;49m\u001b[39m\"\u001b[39;49m,\n\u001b[0;32m   <a href='file:///c%3A/Users/Bigzp/anaconda3/envs/ADS/lib/site-packages/sklearn/cluster/_kmeans.py?line=1141'>1142</a>\u001b[0m         copy\u001b[39m=\u001b[39;49m\u001b[39mself\u001b[39;49m\u001b[39m.\u001b[39;49mcopy_x,\n\u001b[0;32m   <a href='file:///c%3A/Users/Bigzp/anaconda3/envs/ADS/lib/site-packages/sklearn/cluster/_kmeans.py?line=1142'>1143</a>\u001b[0m         accept_large_sparse\u001b[39m=\u001b[39;49m\u001b[39mFalse\u001b[39;49;00m,\n\u001b[0;32m   <a href='file:///c%3A/Users/Bigzp/anaconda3/envs/ADS/lib/site-packages/sklearn/cluster/_kmeans.py?line=1143'>1144</a>\u001b[0m     )\n\u001b[0;32m   <a href='file:///c%3A/Users/Bigzp/anaconda3/envs/ADS/lib/site-packages/sklearn/cluster/_kmeans.py?line=1145'>1146</a>\u001b[0m     \u001b[39mself\u001b[39m\u001b[39m.\u001b[39m_check_params(X)\n\u001b[0;32m   <a href='file:///c%3A/Users/Bigzp/anaconda3/envs/ADS/lib/site-packages/sklearn/cluster/_kmeans.py?line=1146'>1147</a>\u001b[0m     random_state \u001b[39m=\u001b[39m check_random_state(\u001b[39mself\u001b[39m\u001b[39m.\u001b[39mrandom_state)\n",
      "File \u001b[1;32m~\\anaconda3\\envs\\ADS\\lib\\site-packages\\sklearn\\base.py:566\u001b[0m, in \u001b[0;36mBaseEstimator._validate_data\u001b[1;34m(self, X, y, reset, validate_separately, **check_params)\u001b[0m\n\u001b[0;32m    <a href='file:///c%3A/Users/Bigzp/anaconda3/envs/ADS/lib/site-packages/sklearn/base.py?line=563'>564</a>\u001b[0m     \u001b[39mraise\u001b[39;00m \u001b[39mValueError\u001b[39;00m(\u001b[39m\"\u001b[39m\u001b[39mValidation should be done on X, y or both.\u001b[39m\u001b[39m\"\u001b[39m)\n\u001b[0;32m    <a href='file:///c%3A/Users/Bigzp/anaconda3/envs/ADS/lib/site-packages/sklearn/base.py?line=564'>565</a>\u001b[0m \u001b[39melif\u001b[39;00m \u001b[39mnot\u001b[39;00m no_val_X \u001b[39mand\u001b[39;00m no_val_y:\n\u001b[1;32m--> <a href='file:///c%3A/Users/Bigzp/anaconda3/envs/ADS/lib/site-packages/sklearn/base.py?line=565'>566</a>\u001b[0m     X \u001b[39m=\u001b[39m check_array(X, \u001b[39m*\u001b[39m\u001b[39m*\u001b[39mcheck_params)\n\u001b[0;32m    <a href='file:///c%3A/Users/Bigzp/anaconda3/envs/ADS/lib/site-packages/sklearn/base.py?line=566'>567</a>\u001b[0m     out \u001b[39m=\u001b[39m X\n\u001b[0;32m    <a href='file:///c%3A/Users/Bigzp/anaconda3/envs/ADS/lib/site-packages/sklearn/base.py?line=567'>568</a>\u001b[0m \u001b[39melif\u001b[39;00m no_val_X \u001b[39mand\u001b[39;00m \u001b[39mnot\u001b[39;00m no_val_y:\n",
      "File \u001b[1;32m~\\anaconda3\\envs\\ADS\\lib\\site-packages\\sklearn\\utils\\validation.py:769\u001b[0m, in \u001b[0;36mcheck_array\u001b[1;34m(array, accept_sparse, accept_large_sparse, dtype, order, copy, force_all_finite, ensure_2d, allow_nd, ensure_min_samples, ensure_min_features, estimator)\u001b[0m\n\u001b[0;32m    <a href='file:///c%3A/Users/Bigzp/anaconda3/envs/ADS/lib/site-packages/sklearn/utils/validation.py?line=766'>767</a>\u001b[0m     \u001b[39m# If input is 1D raise error\u001b[39;00m\n\u001b[0;32m    <a href='file:///c%3A/Users/Bigzp/anaconda3/envs/ADS/lib/site-packages/sklearn/utils/validation.py?line=767'>768</a>\u001b[0m     \u001b[39mif\u001b[39;00m array\u001b[39m.\u001b[39mndim \u001b[39m==\u001b[39m \u001b[39m1\u001b[39m:\n\u001b[1;32m--> <a href='file:///c%3A/Users/Bigzp/anaconda3/envs/ADS/lib/site-packages/sklearn/utils/validation.py?line=768'>769</a>\u001b[0m         \u001b[39mraise\u001b[39;00m \u001b[39mValueError\u001b[39;00m(\n\u001b[0;32m    <a href='file:///c%3A/Users/Bigzp/anaconda3/envs/ADS/lib/site-packages/sklearn/utils/validation.py?line=769'>770</a>\u001b[0m             \u001b[39m\"\u001b[39m\u001b[39mExpected 2D array, got 1D array instead:\u001b[39m\u001b[39m\\n\u001b[39;00m\u001b[39marray=\u001b[39m\u001b[39m{}\u001b[39;00m\u001b[39m.\u001b[39m\u001b[39m\\n\u001b[39;00m\u001b[39m\"\u001b[39m\n\u001b[0;32m    <a href='file:///c%3A/Users/Bigzp/anaconda3/envs/ADS/lib/site-packages/sklearn/utils/validation.py?line=770'>771</a>\u001b[0m             \u001b[39m\"\u001b[39m\u001b[39mReshape your data either using array.reshape(-1, 1) if \u001b[39m\u001b[39m\"\u001b[39m\n\u001b[0;32m    <a href='file:///c%3A/Users/Bigzp/anaconda3/envs/ADS/lib/site-packages/sklearn/utils/validation.py?line=771'>772</a>\u001b[0m             \u001b[39m\"\u001b[39m\u001b[39myour data has a single feature or array.reshape(1, -1) \u001b[39m\u001b[39m\"\u001b[39m\n\u001b[0;32m    <a href='file:///c%3A/Users/Bigzp/anaconda3/envs/ADS/lib/site-packages/sklearn/utils/validation.py?line=772'>773</a>\u001b[0m             \u001b[39m\"\u001b[39m\u001b[39mif it contains a single sample.\u001b[39m\u001b[39m\"\u001b[39m\u001b[39m.\u001b[39mformat(array)\n\u001b[0;32m    <a href='file:///c%3A/Users/Bigzp/anaconda3/envs/ADS/lib/site-packages/sklearn/utils/validation.py?line=773'>774</a>\u001b[0m         )\n\u001b[0;32m    <a href='file:///c%3A/Users/Bigzp/anaconda3/envs/ADS/lib/site-packages/sklearn/utils/validation.py?line=775'>776</a>\u001b[0m \u001b[39m# make sure we actually converted to numeric:\u001b[39;00m\n\u001b[0;32m    <a href='file:///c%3A/Users/Bigzp/anaconda3/envs/ADS/lib/site-packages/sklearn/utils/validation.py?line=776'>777</a>\u001b[0m \u001b[39mif\u001b[39;00m dtype_numeric \u001b[39mand\u001b[39;00m array\u001b[39m.\u001b[39mdtype\u001b[39m.\u001b[39mkind \u001b[39min\u001b[39;00m \u001b[39m\"\u001b[39m\u001b[39mOUSV\u001b[39m\u001b[39m\"\u001b[39m:\n",
      "\u001b[1;31mValueError\u001b[0m: Expected 2D array, got 1D array instead:\narray=[4.375 4.375 4.25  ... 4.375 4.75  5.125].\nReshape your data either using array.reshape(-1, 1) if your data has a single feature or array.reshape(1, -1) if it contains a single sample."
     ]
    }
   ],
   "source": [
    "kmeans = KMeans(n_clusters=5, random_state=0)\n",
    "y_pred_Kmeans = kmeans.fit_predict(ens_9_1p5)\n",
    "scatter = ax2.scatter(df_1p5_f9,\n",
    "                        c=y_pred_Kmeans, cmap='Paired', label='inline label', s=8)\n",
    "legend3 = ax2.legend(*scatter.legend_elements(),\n",
    "                        loc='center left', bbox_to_anchor=(1, 0.5), title=\"Class\")\n",
    "ax2.set_title(\"Data clustered by K-Means\")\n",
    "ax2.add_artist(legend3)\n",
    "# print(nmi(reduced_df,y_pred_Kmeans))\n",
    "km_shil = silhouette_score(df_1p5_f9, kmeans.labels_, metric='euclidean')\n",
    "print(km_shil)\n",
    "plt.xlabel('Z1')\n",
    "plt.ylabel('Z1')"
   ]
  },
  {
   "cell_type": "code",
   "execution_count": null,
   "metadata": {},
   "outputs": [],
   "source": []
  },
  {
   "cell_type": "markdown",
   "metadata": {},
   "source": [
    "## Other "
   ]
  },
  {
   "cell_type": "code",
   "execution_count": 11,
   "metadata": {},
   "outputs": [
    {
     "name": "stdout",
     "output_type": "stream",
     "text": [
      "(48, 9, 518, 400)\n",
      "(48, 9, 790, 810)\n",
      "(1,)\n"
     ]
    }
   ],
   "source": [
    "ws_1p5 = df.variables[\"wind_speed_of_gust\"]\n",
    "ws_4p4 = df1.variables[\"wind_speed_of_gust\"]\n",
    "print(np.shape(ws_1p5))\n",
    "print(np.shape(ws_4p4))\n",
    "print(np.shape(df2))"
   ]
  },
  {
   "cell_type": "code",
   "execution_count": 53,
   "metadata": {},
   "outputs": [],
   "source": [
    "wind_speed = df.variables[\"wind_speed_of_gust\"][:][0]\n",
    "flat_speeds = wind_speed.flatten()\n",
    "maximum = flat_speeds.max()"
   ]
  },
  {
   "cell_type": "code",
   "execution_count": 49,
   "metadata": {},
   "outputs": [],
   "source": [
    "thresh_wind = np.array([np.where(frame < maximum * .5, 0, frame)for frame in flat_speeds ])"
   ]
  },
  {
   "cell_type": "code",
   "execution_count": 54,
   "metadata": {},
   "outputs": [
    {
     "name": "stdout",
     "output_type": "stream",
     "text": [
      "(48, 9, 518, 400)\n"
     ]
    }
   ],
   "source": [
    "print(np.shape(wind_speed))\n",
    "print(np.shape(flat_speeds[flat_speeds != 0]))\n",
    "np.shape(thresh_wind[thresh_wind != 0])"
   ]
  },
  {
   "cell_type": "code",
   "execution_count": 56,
   "metadata": {},
   "outputs": [
    {
     "name": "stdout",
     "output_type": "stream",
     "text": [
      "1\n",
      "2\n",
      "3\n",
      "4\n",
      "5\n",
      "6\n",
      "7\n",
      "8\n",
      "9\n"
     ]
    }
   ],
   "source": [
    "for i in range(1,9):\n",
    "    wind_speed = df.variables[\"wind_speed_of_gust\"][:][i]\n",
    "    flat_speeds = wind_speed.flatten()\n",
    "    maximum = flat_speeds.max()\n",
    "    thresh_wind = np.array([np.where(frame < maximum * .5, 0, frame)for frame in flat_speeds ])\n",
    "    print(i)\n",
    "    print(np.shape(wind_speed))\n",
    "    print(np.shape(flat_speeds[flat_speeds != 0]))\n",
    "    np.shape(thresh_wind[thresh_wind != 0])\n",
    "    pd.DataFrame.to_csv(str(i), index = None)"
   ]
  },
  {
   "cell_type": "code",
   "execution_count": null,
   "metadata": {},
   "outputs": [],
   "source": [
    "iteration = 30\n",
    "data = np.copy(p[iteration])\n",
    "np.shape(data)"
   ]
  },
  {
   "cell_type": "code",
   "execution_count": null,
   "metadata": {},
   "outputs": [],
   "source": [
    "# visualise all samples in selected iteration, no filtering\n",
    "fig, ax = plt.subplots(nrows = 8, ncols = 8, figsize = (20,15))\n",
    "ax = ax.flatten()\n",
    "for x, axis in zip(data, ax):\n",
    "    x = x[0]\n",
    "    axis.contourf(x)\n",
    "    axis.set_xticks([])\n",
    "    axis.set_yticks([])\n",
    "plt.show()"
   ]
  },
  {
   "cell_type": "code",
   "execution_count": 8,
   "metadata": {},
   "outputs": [
    {
     "name": "stdout",
     "output_type": "stream",
     "text": [
      "C:\\Users\\Bigzp\\Desktop/wind_speed_of_gust1p5.1997.txt\n"
     ]
    },
    {
     "ename": "KeyboardInterrupt",
     "evalue": "",
     "output_type": "error",
     "traceback": [
      "\u001b[1;31m---------------------------------------------------------------------------\u001b[0m",
      "\u001b[1;31mKeyboardInterrupt\u001b[0m                         Traceback (most recent call last)",
      "\u001b[1;32mc:\\Users\\Bigzp\\Desktop\\Coding\\MATLAB\\AppliedStatistics\\ADS-Coursework\\exploration\\statistical_vis\\hist.ipynb Cell 5'\u001b[0m in \u001b[0;36m<module>\u001b[1;34m\u001b[0m\n\u001b[0;32m      <a href='vscode-notebook-cell:/c%3A/Users/Bigzp/Desktop/Coding/MATLAB/AppliedStatistics/ADS-Coursework/exploration/statistical_vis/hist.ipynb#ch0000004?line=2'>3</a>\u001b[0m ws_dat \u001b[39m=\u001b[39m \u001b[39mf\u001b[39m\u001b[39m\"\u001b[39m\u001b[39m{\u001b[39;00mPATH\u001b[39m}\u001b[39;00m\u001b[39m/\u001b[39m\u001b[39m{\u001b[39;00mFILENAME\u001b[39m}\u001b[39;00m\u001b[39m\"\u001b[39m\n\u001b[0;32m      <a href='vscode-notebook-cell:/c%3A/Users/Bigzp/Desktop/Coding/MATLAB/AppliedStatistics/ADS-Coursework/exploration/statistical_vis/hist.ipynb#ch0000004?line=3'>4</a>\u001b[0m \u001b[39mprint\u001b[39m(ws_dat)\n\u001b[1;32m----> <a href='vscode-notebook-cell:/c%3A/Users/Bigzp/Desktop/Coding/MATLAB/AppliedStatistics/ADS-Coursework/exploration/statistical_vis/hist.ipynb#ch0000004?line=4'>5</a>\u001b[0m ws_df \u001b[39m=\u001b[39m np\u001b[39m.\u001b[39;49mloadtxt(ws_dat, dtype\u001b[39m=\u001b[39;49m\u001b[39mstr\u001b[39;49m)\n",
      "File \u001b[1;32m~\\anaconda3\\envs\\ADS\\lib\\site-packages\\numpy\\lib\\npyio.py:1174\u001b[0m, in \u001b[0;36mloadtxt\u001b[1;34m(fname, dtype, comments, delimiter, converters, skiprows, usecols, unpack, ndmin, encoding, max_rows, like)\u001b[0m\n\u001b[0;32m   <a href='file:///c%3A/Users/Bigzp/anaconda3/envs/ADS/lib/site-packages/numpy/lib/npyio.py?line=1171'>1172</a>\u001b[0m             nshape[\u001b[39m0\u001b[39m] \u001b[39m+\u001b[39m\u001b[39m=\u001b[39m \u001b[39mlen\u001b[39m(chunk)\n\u001b[0;32m   <a href='file:///c%3A/Users/Bigzp/anaconda3/envs/ADS/lib/site-packages/numpy/lib/npyio.py?line=1172'>1173</a>\u001b[0m             X\u001b[39m.\u001b[39mresize(nshape, refcheck\u001b[39m=\u001b[39m\u001b[39mFalse\u001b[39;00m)\n\u001b[1;32m-> <a href='file:///c%3A/Users/Bigzp/anaconda3/envs/ADS/lib/site-packages/numpy/lib/npyio.py?line=1173'>1174</a>\u001b[0m             X[pos:, \u001b[39m.\u001b[39m\u001b[39m.\u001b[39m\u001b[39m.\u001b[39m] \u001b[39m=\u001b[39m chunk\n\u001b[0;32m   <a href='file:///c%3A/Users/Bigzp/anaconda3/envs/ADS/lib/site-packages/numpy/lib/npyio.py?line=1175'>1176</a>\u001b[0m \u001b[39mif\u001b[39;00m X \u001b[39mis\u001b[39;00m \u001b[39mNone\u001b[39;00m:\n\u001b[0;32m   <a href='file:///c%3A/Users/Bigzp/anaconda3/envs/ADS/lib/site-packages/numpy/lib/npyio.py?line=1176'>1177</a>\u001b[0m     X \u001b[39m=\u001b[39m np\u001b[39m.\u001b[39marray([], dtype)\n",
      "\u001b[1;31mKeyboardInterrupt\u001b[0m: "
     ]
    }
   ],
   "source": [
    "PATH = r\"C:\\Users\\Bigzp\\Desktop\"\n",
    "FILENAME = \"wind_speed_of_gust1p5.1997.txt\"\n",
    "ws_dat = f\"{PATH}/{FILENAME}\"\n",
    "ws_df = np.loadtxt(ws_dat, dtype=str)"
   ]
  },
  {
   "cell_type": "code",
   "execution_count": 9,
   "metadata": {},
   "outputs": [
    {
     "ename": "NameError",
     "evalue": "name 'ws_df' is not defined",
     "output_type": "error",
     "traceback": [
      "\u001b[1;31m---------------------------------------------------------------------------\u001b[0m",
      "\u001b[1;31mNameError\u001b[0m                                 Traceback (most recent call last)",
      "\u001b[1;32mc:\\Users\\Bigzp\\Desktop\\Coding\\MATLAB\\AppliedStatistics\\ADS-Coursework\\exploration\\statistical_vis\\hist.ipynb Cell 6'\u001b[0m in \u001b[0;36m<module>\u001b[1;34m\u001b[0m\n\u001b[1;32m----> <a href='vscode-notebook-cell:/c%3A/Users/Bigzp/Desktop/Coding/MATLAB/AppliedStatistics/ADS-Coursework/exploration/statistical_vis/hist.ipynb#ch0000005?line=0'>1</a>\u001b[0m ws_df\n",
      "\u001b[1;31mNameError\u001b[0m: name 'ws_df' is not defined"
     ]
    }
   ],
   "source": [
    "ws_df"
   ]
  },
  {
   "cell_type": "code",
   "execution_count": null,
   "metadata": {},
   "outputs": [],
   "source": []
  }
 ],
 "metadata": {
  "interpreter": {
   "hash": "690ccd1a1b729774d21b8fa7ee951de556043e93111b20d6464bdaa8ad7c8a46"
  },
  "kernelspec": {
   "display_name": "Python 3.9.9 ('ADS')",
   "language": "python",
   "name": "python3"
  },
  "language_info": {
   "codemirror_mode": {
    "name": "ipython",
    "version": 3
   },
   "file_extension": ".py",
   "mimetype": "text/x-python",
   "name": "python",
   "nbconvert_exporter": "python",
   "pygments_lexer": "ipython3",
   "version": "3.9.9"
  },
  "orig_nbformat": 4
 },
 "nbformat": 4,
 "nbformat_minor": 2
}
