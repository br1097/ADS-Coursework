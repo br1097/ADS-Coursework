{
 "cells": [
  {
   "cell_type": "code",
   "execution_count": 1,
   "metadata": {},
   "outputs": [],
   "source": [
    "import numpy as np\n",
    "import matplotlib.pyplot as plt"
   ]
  },
  {
   "cell_type": "markdown",
   "metadata": {},
   "source": [
    "p = np.load('produced_small.npy')\n",
    "np.shape(p)\n",
    "# each iteration produces 64 images of size 64x64, there's 33 iterations"
   ]
  },
  {
   "cell_type": "code",
   "execution_count": null,
   "metadata": {},
   "outputs": [],
   "source": [
    "iteration = 30\n",
    "data = np.copy(p[iteration])\n",
    "np.shape(data)"
   ]
  },
  {
   "cell_type": "code",
   "execution_count": null,
   "metadata": {},
   "outputs": [],
   "source": [
    "# visualise all samples in selected iteration, no filtering\n",
    "fig, ax = plt.subplots(nrows = 8, ncols = 8, figsize = (20,15))\n",
    "ax = ax.flatten()\n",
    "for x, axis in zip(data, ax):\n",
    "    x = x[0]\n",
    "    axis.contourf(x)\n",
    "    axis.set_xticks([])\n",
    "    axis.set_yticks([])\n",
    "plt.show()"
   ]
  },
  {
   "cell_type": "code",
   "execution_count": 8,
   "metadata": {},
   "outputs": [
    {
     "name": "stdout",
     "output_type": "stream",
     "text": [
      "C:\\Users\\Bigzp\\Desktop/wind_speed_of_gust1p5.1997.txt\n"
     ]
    },
    {
     "ename": "KeyboardInterrupt",
     "evalue": "",
     "output_type": "error",
     "traceback": [
      "\u001b[1;31m---------------------------------------------------------------------------\u001b[0m",
      "\u001b[1;31mKeyboardInterrupt\u001b[0m                         Traceback (most recent call last)",
      "\u001b[1;32mc:\\Users\\Bigzp\\Desktop\\Coding\\MATLAB\\AppliedStatistics\\ADS-Coursework\\exploration\\statistical_vis\\hist.ipynb Cell 5'\u001b[0m in \u001b[0;36m<module>\u001b[1;34m\u001b[0m\n\u001b[0;32m      <a href='vscode-notebook-cell:/c%3A/Users/Bigzp/Desktop/Coding/MATLAB/AppliedStatistics/ADS-Coursework/exploration/statistical_vis/hist.ipynb#ch0000004?line=2'>3</a>\u001b[0m ws_dat \u001b[39m=\u001b[39m \u001b[39mf\u001b[39m\u001b[39m\"\u001b[39m\u001b[39m{\u001b[39;00mPATH\u001b[39m}\u001b[39;00m\u001b[39m/\u001b[39m\u001b[39m{\u001b[39;00mFILENAME\u001b[39m}\u001b[39;00m\u001b[39m\"\u001b[39m\n\u001b[0;32m      <a href='vscode-notebook-cell:/c%3A/Users/Bigzp/Desktop/Coding/MATLAB/AppliedStatistics/ADS-Coursework/exploration/statistical_vis/hist.ipynb#ch0000004?line=3'>4</a>\u001b[0m \u001b[39mprint\u001b[39m(ws_dat)\n\u001b[1;32m----> <a href='vscode-notebook-cell:/c%3A/Users/Bigzp/Desktop/Coding/MATLAB/AppliedStatistics/ADS-Coursework/exploration/statistical_vis/hist.ipynb#ch0000004?line=4'>5</a>\u001b[0m ws_df \u001b[39m=\u001b[39m np\u001b[39m.\u001b[39;49mloadtxt(ws_dat, dtype\u001b[39m=\u001b[39;49m\u001b[39mstr\u001b[39;49m)\n",
      "File \u001b[1;32m~\\anaconda3\\envs\\ADS\\lib\\site-packages\\numpy\\lib\\npyio.py:1174\u001b[0m, in \u001b[0;36mloadtxt\u001b[1;34m(fname, dtype, comments, delimiter, converters, skiprows, usecols, unpack, ndmin, encoding, max_rows, like)\u001b[0m\n\u001b[0;32m   <a href='file:///c%3A/Users/Bigzp/anaconda3/envs/ADS/lib/site-packages/numpy/lib/npyio.py?line=1171'>1172</a>\u001b[0m             nshape[\u001b[39m0\u001b[39m] \u001b[39m+\u001b[39m\u001b[39m=\u001b[39m \u001b[39mlen\u001b[39m(chunk)\n\u001b[0;32m   <a href='file:///c%3A/Users/Bigzp/anaconda3/envs/ADS/lib/site-packages/numpy/lib/npyio.py?line=1172'>1173</a>\u001b[0m             X\u001b[39m.\u001b[39mresize(nshape, refcheck\u001b[39m=\u001b[39m\u001b[39mFalse\u001b[39;00m)\n\u001b[1;32m-> <a href='file:///c%3A/Users/Bigzp/anaconda3/envs/ADS/lib/site-packages/numpy/lib/npyio.py?line=1173'>1174</a>\u001b[0m             X[pos:, \u001b[39m.\u001b[39m\u001b[39m.\u001b[39m\u001b[39m.\u001b[39m] \u001b[39m=\u001b[39m chunk\n\u001b[0;32m   <a href='file:///c%3A/Users/Bigzp/anaconda3/envs/ADS/lib/site-packages/numpy/lib/npyio.py?line=1175'>1176</a>\u001b[0m \u001b[39mif\u001b[39;00m X \u001b[39mis\u001b[39;00m \u001b[39mNone\u001b[39;00m:\n\u001b[0;32m   <a href='file:///c%3A/Users/Bigzp/anaconda3/envs/ADS/lib/site-packages/numpy/lib/npyio.py?line=1176'>1177</a>\u001b[0m     X \u001b[39m=\u001b[39m np\u001b[39m.\u001b[39marray([], dtype)\n",
      "\u001b[1;31mKeyboardInterrupt\u001b[0m: "
     ]
    }
   ],
   "source": [
    "PATH = r\"C:\\Users\\Bigzp\\Desktop\"\n",
    "FILENAME = \"wind_speed_of_gust1p5.1997.txt\"\n",
    "ws_dat = f\"{PATH}/{FILENAME}\"\n",
    "ws_df = np.loadtxt(ws_dat, dtype=str)"
   ]
  },
  {
   "cell_type": "code",
   "execution_count": 9,
   "metadata": {},
   "outputs": [
    {
     "ename": "NameError",
     "evalue": "name 'ws_df' is not defined",
     "output_type": "error",
     "traceback": [
      "\u001b[1;31m---------------------------------------------------------------------------\u001b[0m",
      "\u001b[1;31mNameError\u001b[0m                                 Traceback (most recent call last)",
      "\u001b[1;32mc:\\Users\\Bigzp\\Desktop\\Coding\\MATLAB\\AppliedStatistics\\ADS-Coursework\\exploration\\statistical_vis\\hist.ipynb Cell 6'\u001b[0m in \u001b[0;36m<module>\u001b[1;34m\u001b[0m\n\u001b[1;32m----> <a href='vscode-notebook-cell:/c%3A/Users/Bigzp/Desktop/Coding/MATLAB/AppliedStatistics/ADS-Coursework/exploration/statistical_vis/hist.ipynb#ch0000005?line=0'>1</a>\u001b[0m ws_df\n",
      "\u001b[1;31mNameError\u001b[0m: name 'ws_df' is not defined"
     ]
    }
   ],
   "source": [
    "ws_df"
   ]
  },
  {
   "cell_type": "code",
   "execution_count": null,
   "metadata": {},
   "outputs": [],
   "source": []
  }
 ],
 "metadata": {
  "interpreter": {
   "hash": "690ccd1a1b729774d21b8fa7ee951de556043e93111b20d6464bdaa8ad7c8a46"
  },
  "kernelspec": {
   "display_name": "Python 3.9.9 ('ADS')",
   "language": "python",
   "name": "python3"
  },
  "language_info": {
   "codemirror_mode": {
    "name": "ipython",
    "version": 3
   },
   "file_extension": ".py",
   "mimetype": "text/x-python",
   "name": "python",
   "nbconvert_exporter": "python",
   "pygments_lexer": "ipython3",
   "version": "3.9.9"
  },
  "orig_nbformat": 4
 },
 "nbformat": 4,
 "nbformat_minor": 2
}
