{
 "cells": [
  {
   "cell_type": "code",
   "execution_count": null,
   "metadata": {},
   "outputs": [],
   "source": []
  },
  {
   "cell_type": "code",
   "execution_count": 2,
   "metadata": {},
   "outputs": [],
   "source": [
    "import netCDF4 as nc\n",
    "import numpy as np\n",
    "import matplotlib.pyplot as plt\n",
    "from scipy import stats\n",
    "import imageio\n",
    "import os\n",
    "import pandas as pd\n",
    "import openpyxl"
   ]
  },
  {
   "cell_type": "code",
   "execution_count": 18,
   "metadata": {},
   "outputs": [],
   "source": [
    "PATH = \"../../sample_data/1997TS\"\n",
    "# WIND SPEED OF GUST\n",
    "FG = \"fg.T1Hmax.UMRA2T.19970518_19970521.TC01B.1p5km.nc\"\n",
    "FG1 = \"fg.T1Hmax.UMRA2T.19970518_19970521.TC01B.4p4km.nc\"\n",
    "FG2 = \"fg_265_1997.npz\"\n",
    "\n",
    "df = nc.Dataset(f\"{PATH}/{FG}\")\n",
    "df1 = nc.Dataset(f\"{PATH}/{FG1}\")\n",
    "df2 = np.load(f\"{PATH}/{FG2}\", allow_pickle=True)"
   ]
  },
  {
   "cell_type": "code",
   "execution_count": 67,
   "metadata": {},
   "outputs": [
    {
     "name": "stdout",
     "output_type": "stream",
     "text": [
      "(1427671,)\n",
      "(382,)\n"
     ]
    }
   ],
   "source": [
    "lst = df2.files\n",
    "# ls2 = lst.isnan()\n",
    "hist_list = []\n",
    "avg_list = []\n",
    "for item in lst:\n",
    "    x = df2[item]\n",
    "    #print(np.shape(x[300]))\n",
    "    for arr in x: \n",
    "        if len(arr[~np.isnan(arr)]) != 0:\n",
    "            avg_list.append(sum(arr[~np.isnan(arr)])/len(arr[~np.isnan(arr)]))\n",
    "        #print(np.shape(arr))\n",
    "        #print(arr[~np.isnan(arr)])\n",
    "        #print(np.shape(arr[~np.isnan(arr)]))\n",
    "        for val in arr[~np.isnan(arr)]:\n",
    "            #print(val)\n",
    "            hist_list.append(val)\n",
    "print(np.shape(hist_list))\n",
    "print(np.shape(avg_list))\n"
   ]
  },
  {
   "cell_type": "code",
   "execution_count": 73,
   "metadata": {},
   "outputs": [
    {
     "data": {
      "image/png": "[encoded data removed]",
      "text/plain": [
       "<Figure size 432x288 with 1 Axes>"
      ]
     },
     "metadata": {
      "needs_background": "light"
     },
     "output_type": "display_data"
    }
   ],
   "source": [
    "plt.hist(avg_list)\n",
    "plt.show()"
   ]
  },
  {
   "cell_type": "code",
   "execution_count": 115,
   "metadata": {},
   "outputs": [
    {
     "data": {
      "image/png": "[encoded data removed]",
      "text/plain": [
       "<Figure size 432x288 with 1 Axes>"
      ]
     },
     "metadata": {
      "needs_background": "light"
     },
     "output_type": "display_data"
    }
   ],
   "source": [
    "plt.hist(hist_list, bins=50)\n",
    "plt.ylim(ymin = 0)\n",
    "plt.xlabel('Wind Speed of Gust m/s')\n",
    "plt.title('Distribution of cleaned and isolated 4.4km data for 1997TS')\n",
    "plt.show()"
   ]
  },
  {
   "cell_type": "code",
   "execution_count": 95,
   "metadata": {},
   "outputs": [],
   "source": [
    "ens_9_df = []\n",
    "for i in range(0,48):\n",
    "    ws_1p5 = df.variables[\"wind_speed_of_gust\"][i][8]\n",
    "    ens_9_df.append(ws_1p5)\n"
   ]
  },
  {
   "cell_type": "code",
   "execution_count": 109,
   "metadata": {},
   "outputs": [],
   "source": [
    "ens_9_1p5 = np.array(ens_9_df)\n",
    "ens_9_1p5 = ens_9_1p5.flatten()\n",
    "ens_9_1p5Clean = np.array([np.where(val <= 26.5, np.nan, val)for val in ens_9_1p5 ])"
   ]
  },
  {
   "cell_type": "code",
   "execution_count": 116,
   "metadata": {},
   "outputs": [
    {
     "data": {
      "image/png": "[encoded data removed]",
      "text/plain": [
       "<Figure size 432x288 with 1 Axes>"
      ]
     },
     "metadata": {
      "needs_background": "light"
     },
     "output_type": "display_data"
    }
   ],
   "source": [
    "plt.hist(ens_9_1p5Clean[~np.isnan(ens_9_1p5Clean)], bins=50)\n",
    "plt.ylim(ymin = 0)\n",
    "plt.xlabel('Wind Speed of Gust m/s')\n",
    "plt.title('Distribution of cleaned and isolated 1.5km data for 1997TS')\n",
    "plt.show()"
   ]
  },
  {
   "cell_type": "code",
   "execution_count": 125,
   "metadata": {},
   "outputs": [
    {
     "name": "stdout",
     "output_type": "stream",
     "text": [
      "36.455648504589874 8.793266759905569 34.1749 7.882482\n",
      "(168850,) (1427671,)\n",
      "Ttest_indResult(statistic=111.00664033552788, pvalue=0.0)\n",
      "Ttest_indResult(statistic=101.85047040107483, pvalue=0.0)\n"
     ]
    }
   ],
   "source": [
    "df_1p5_f9 = ens_9_1p5Clean[~np.isnan(ens_9_1p5Clean)]\n",
    "df_4p4_f9 = hist_list\n",
    "print(np.mean(df_1p5_f9), np.std(df_1p5_f9), np.mean(df_4p4_f9), np.std(df_4p4_f9))\n",
    "print(np.shape(df_1p5_f9), np.shape(df_4p4_f9))\n",
    "print(stats.ttest_ind(df_1p5_f9,df_4p4_f9))\n",
    "print(stats.ttest_ind_from_stats(36.455648504589874, 8.793266759905569, 168850, 34.1749, 7.882482, 1427671, equal_var = False))"
   ]
  },
  {
   "cell_type": "code",
   "execution_count": 11,
   "metadata": {},
   "outputs": [
    {
     "name": "stdout",
     "output_type": "stream",
     "text": [
      "(48, 9, 518, 400)\n",
      "(48, 9, 790, 810)\n",
      "(1,)\n"
     ]
    }
   ],
   "source": [
    "ws_1p5 = df.variables[\"wind_speed_of_gust\"]\n",
    "ws_4p4 = df1.variables[\"wind_speed_of_gust\"]\n",
    "print(np.shape(ws_1p5))\n",
    "print(np.shape(ws_4p4))\n",
    "print(np.shape(df2))"
   ]
  },
  {
   "cell_type": "code",
   "execution_count": 53,
   "metadata": {},
   "outputs": [],
   "source": [
    "wind_speed = df.variables[\"wind_speed_of_gust\"][:][0]\n",
    "flat_speeds = wind_speed.flatten()\n",
    "maximum = flat_speeds.max()"
   ]
  },
  {
   "cell_type": "code",
   "execution_count": 49,
   "metadata": {},
   "outputs": [],
   "source": [
    "thresh_wind = np.array([np.where(frame < maximum * .5, 0, frame)for frame in flat_speeds ])"
   ]
  },
  {
   "cell_type": "code",
   "execution_count": 54,
   "metadata": {},
   "outputs": [
    {
     "name": "stdout",
     "output_type": "stream",
     "text": [
      "(48, 9, 518, 400)\n"
     ]
    }
   ],
   "source": [
    "print(np.shape(wind_speed))\n",
    "print(np.shape(flat_speeds[flat_speeds != 0]))\n",
    "np.shape(thresh_wind[thresh_wind != 0])"
   ]
  },
  {
   "cell_type": "code",
   "execution_count": 56,
   "metadata": {},
   "outputs": [
    {
     "name": "stdout",
     "output_type": "stream",
     "text": [
      "1\n",
      "2\n",
      "3\n",
      "4\n",
      "5\n",
      "6\n",
      "7\n",
      "8\n",
      "9\n"
     ]
    }
   ],
   "source": [
    "for i in range(1,9):\n",
    "    wind_speed = df.variables[\"wind_speed_of_gust\"][:][i]\n",
    "    flat_speeds = wind_speed.flatten()\n",
    "    maximum = flat_speeds.max()\n",
    "    thresh_wind = np.array([np.where(frame < maximum * .5, 0, frame)for frame in flat_speeds ])\n",
    "    print(i)\n",
    "    print(np.shape(wind_speed))\n",
    "    print(np.shape(flat_speeds[flat_speeds != 0]))\n",
    "    np.shape(thresh_wind[thresh_wind != 0])\n",
    "    pd.DataFrame.to_csv(str(i), index = None)"
   ]
  },
  {
   "cell_type": "code",
   "execution_count": null,
   "metadata": {},
   "outputs": [],
   "source": [
    "iteration = 30\n",
    "data = np.copy(p[iteration])\n",
    "np.shape(data)"
   ]
  },
  {
   "cell_type": "code",
   "execution_count": null,
   "metadata": {},
   "outputs": [],
   "source": [
    "# visualise all samples in selected iteration, no filtering\n",
    "fig, ax = plt.subplots(nrows = 8, ncols = 8, figsize = (20,15))\n",
    "ax = ax.flatten()\n",
    "for x, axis in zip(data, ax):\n",
    "    x = x[0]\n",
    "    axis.contourf(x)\n",
    "    axis.set_xticks([])\n",
    "    axis.set_yticks([])\n",
    "plt.show()"
   ]
  },
  {
   "cell_type": "code",
   "execution_count": 8,
   "metadata": {},
   "outputs": [
    {
     "name": "stdout",
     "output_type": "stream",
     "text": [
      "C:\\Users\\Bigzp\\Desktop/wind_speed_of_gust1p5.1997.txt\n"
     ]
    },
    {
     "ename": "KeyboardInterrupt",
     "evalue": "",
     "output_type": "error",
     "traceback": [
      "\u001b[1;31m---------------------------------------------------------------------------\u001b[0m",
      "\u001b[1;31mKeyboardInterrupt\u001b[0m                         Traceback (most recent call last)",
      "\u001b[1;32mc:\\Users\\Bigzp\\Desktop\\Coding\\MATLAB\\AppliedStatistics\\ADS-Coursework\\exploration\\statistical_vis\\hist.ipynb Cell 5'\u001b[0m in \u001b[0;36m<module>\u001b[1;34m\u001b[0m\n\u001b[0;32m      <a href='vscode-notebook-cell:/c%3A/Users/Bigzp/Desktop/Coding/MATLAB/AppliedStatistics/ADS-Coursework/exploration/statistical_vis/hist.ipynb#ch0000004?line=2'>3</a>\u001b[0m ws_dat \u001b[39m=\u001b[39m \u001b[39mf\u001b[39m\u001b[39m\"\u001b[39m\u001b[39m{\u001b[39;00mPATH\u001b[39m}\u001b[39;00m\u001b[39m/\u001b[39m\u001b[39m{\u001b[39;00mFILENAME\u001b[39m}\u001b[39;00m\u001b[39m\"\u001b[39m\n\u001b[0;32m      <a href='vscode-notebook-cell:/c%3A/Users/Bigzp/Desktop/Coding/MATLAB/AppliedStatistics/ADS-Coursework/exploration/statistical_vis/hist.ipynb#ch0000004?line=3'>4</a>\u001b[0m \u001b[39mprint\u001b[39m(ws_dat)\n\u001b[1;32m----> <a href='vscode-notebook-cell:/c%3A/Users/Bigzp/Desktop/Coding/MATLAB/AppliedStatistics/ADS-Coursework/exploration/statistical_vis/hist.ipynb#ch0000004?line=4'>5</a>\u001b[0m ws_df \u001b[39m=\u001b[39m np\u001b[39m.\u001b[39;49mloadtxt(ws_dat, dtype\u001b[39m=\u001b[39;49m\u001b[39mstr\u001b[39;49m)\n",
      "File \u001b[1;32m~\\anaconda3\\envs\\ADS\\lib\\site-packages\\numpy\\lib\\npyio.py:1174\u001b[0m, in \u001b[0;36mloadtxt\u001b[1;34m(fname, dtype, comments, delimiter, converters, skiprows, usecols, unpack, ndmin, encoding, max_rows, like)\u001b[0m\n\u001b[0;32m   <a href='file:///c%3A/Users/Bigzp/anaconda3/envs/ADS/lib/site-packages/numpy/lib/npyio.py?line=1171'>1172</a>\u001b[0m             nshape[\u001b[39m0\u001b[39m] \u001b[39m+\u001b[39m\u001b[39m=\u001b[39m \u001b[39mlen\u001b[39m(chunk)\n\u001b[0;32m   <a href='file:///c%3A/Users/Bigzp/anaconda3/envs/ADS/lib/site-packages/numpy/lib/npyio.py?line=1172'>1173</a>\u001b[0m             X\u001b[39m.\u001b[39mresize(nshape, refcheck\u001b[39m=\u001b[39m\u001b[39mFalse\u001b[39;00m)\n\u001b[1;32m-> <a href='file:///c%3A/Users/Bigzp/anaconda3/envs/ADS/lib/site-packages/numpy/lib/npyio.py?line=1173'>1174</a>\u001b[0m             X[pos:, \u001b[39m.\u001b[39m\u001b[39m.\u001b[39m\u001b[39m.\u001b[39m] \u001b[39m=\u001b[39m chunk\n\u001b[0;32m   <a href='file:///c%3A/Users/Bigzp/anaconda3/envs/ADS/lib/site-packages/numpy/lib/npyio.py?line=1175'>1176</a>\u001b[0m \u001b[39mif\u001b[39;00m X \u001b[39mis\u001b[39;00m \u001b[39mNone\u001b[39;00m:\n\u001b[0;32m   <a href='file:///c%3A/Users/Bigzp/anaconda3/envs/ADS/lib/site-packages/numpy/lib/npyio.py?line=1176'>1177</a>\u001b[0m     X \u001b[39m=\u001b[39m np\u001b[39m.\u001b[39marray([], dtype)\n",
      "\u001b[1;31mKeyboardInterrupt\u001b[0m: "
     ]
    }
   ],
   "source": [
    "PATH = r\"C:\\Users\\Bigzp\\Desktop\"\n",
    "FILENAME = \"wind_speed_of_gust1p5.1997.txt\"\n",
    "ws_dat = f\"{PATH}/{FILENAME}\"\n",
    "ws_df = np.loadtxt(ws_dat, dtype=str)"
   ]
  },
  {
   "cell_type": "code",
   "execution_count": 9,
   "metadata": {},
   "outputs": [
    {
     "ename": "NameError",
     "evalue": "name 'ws_df' is not defined",
     "output_type": "error",
     "traceback": [
      "\u001b[1;31m---------------------------------------------------------------------------\u001b[0m",
      "\u001b[1;31mNameError\u001b[0m                                 Traceback (most recent call last)",
      "\u001b[1;32mc:\\Users\\Bigzp\\Desktop\\Coding\\MATLAB\\AppliedStatistics\\ADS-Coursework\\exploration\\statistical_vis\\hist.ipynb Cell 6'\u001b[0m in \u001b[0;36m<module>\u001b[1;34m\u001b[0m\n\u001b[1;32m----> <a href='vscode-notebook-cell:/c%3A/Users/Bigzp/Desktop/Coding/MATLAB/AppliedStatistics/ADS-Coursework/exploration/statistical_vis/hist.ipynb#ch0000005?line=0'>1</a>\u001b[0m ws_df\n",
      "\u001b[1;31mNameError\u001b[0m: name 'ws_df' is not defined"
     ]
    }
   ],
   "source": [
    "ws_df"
   ]
  },
  {
   "cell_type": "code",
   "execution_count": null,
   "metadata": {},
   "outputs": [],
   "source": []
  }
 ],
 "metadata": {
  "interpreter": {
   "hash": "690ccd1a1b729774d21b8fa7ee951de556043e93111b20d6464bdaa8ad7c8a46"
  },
  "kernelspec": {
   "display_name": "Python 3.9.9 ('ADS')",
   "language": "python",
   "name": "python3"
  },
  "language_info": {
   "codemirror_mode": {
    "name": "ipython",
    "version": 3
   },
   "file_extension": ".py",
   "mimetype": "text/x-python",
   "name": "python",
   "nbconvert_exporter": "python",
   "pygments_lexer": "ipython3",
   "version": "3.9.9"
  },
  "orig_nbformat": 4
 },
 "nbformat": 4,
 "nbformat_minor": 2
}
