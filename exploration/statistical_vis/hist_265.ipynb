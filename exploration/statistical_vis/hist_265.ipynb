{
 "cells": [
  {
   "cell_type": "code",
   "execution_count": null,
   "metadata": {},
   "outputs": [],
   "source": [
    "import numpy as np\n",
    "import matplotlib.pyplot as plt\n",
    "import os"
   ]
  },
  {
   "cell_type": "code",
   "execution_count": null,
   "metadata": {},
   "outputs": [],
   "source": [
    "## load provided data and append together\n",
    "# also get max and min to de-normalise the produced data later\n",
    "mx = 0\n",
    "\n",
    "cyclones=[]\n",
    "for f in os.listdir(\"eyes\"):\n",
    "    if f.endswith(\"fg_full.npz\"):\n",
    "        print(f)\n",
    "        with np.load(\"eyes/\"+f,allow_pickle=True) as data:\n",
    "            wind = data['arr_0']\n",
    "        for item in wind:\n",
    "            if np.shape(item) == (256,256):\n",
    "                cyclones.append(item[128-32:128+32, 128-32:128+32].flatten()) \n",
    "                mx=max(mx,np.max(item[128-32:128+32, 128-32:128+32]))\n",
    "\n",
    "cyclones = np.array(cyclones)"
   ]
  },
  {
   "cell_type": "code",
   "execution_count": null,
   "metadata": {},
   "outputs": [],
   "source": [
    "## load produced data and append together (a particular iteration)\n",
    "p = np.load('produced_small.npy')\n",
    "iteration = 2\n",
    "\n",
    "produced = []\n",
    "\n",
    "for point in p[iteration]:\n",
    "    produced.append(point[0].flatten()) \n",
    "produced = np.array(produced)\n",
    "\n",
    "# de-normalise \n",
    "produced = (produced + 1)*0.5*mx\n",
    "\n",
    "print(np.shape(cyclones), np.shape(produced))"
   ]
  },
  {
   "cell_type": "code",
   "execution_count": null,
   "metadata": {},
   "outputs": [],
   "source": [
    "# plot    \n",
    "fig, (ax1, ax2) = plt.subplots(nrows = 1, ncols = 2, figsize = (20,10))\n",
    "\n",
    "for (ax, name), data in zip([(ax1, 'provided'), (ax2, 'produced')], [cyclones, produced]):\n",
    "    # weights command averages the data out over the number of samples\n",
    "    ax.hist(x=data.flatten(), weights = [1/len(data)]*len(data.flatten()))\n",
    "    ax.set_title(\"histogram for \" + name + \" data\")\n",
    "    ax.set_ylim(top=1500)\n",
    "    ax.set_xlim(right=90)\n",
    "    \n",
    "plt.show()"
   ]
  },
  {
   "cell_type": "code",
   "execution_count": null,
   "metadata": {},
   "outputs": [],
   "source": []
  }
 ],
 "metadata": {
  "language_info": {
   "name": "python"
  },
  "orig_nbformat": 4
 },
 "nbformat": 4,
 "nbformat_minor": 2
}
