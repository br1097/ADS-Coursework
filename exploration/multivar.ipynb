{
 "cells": [
  {
   "cell_type": "markdown",
   "metadata": {},
   "source": [
    "# Using Multiple Variables\n",
    "According to [the documentation](https://myololobuckert213913653.s3.amazonaws.com/documentation/bangladesh-tropical-cyclone-historical-catalogue/HistoricalCatalogueDataDescription.pdf?) the filenames indicate the varibles which they model. Each file contains one variable, along with its dimensions. For example, FB is wind speed of gust. Here, I will extract multiple variables from the same time period (again see documentation) then do funkey stuff. \\\n",
    "Note this will require all 1991 data in the `data/1991TS` folder, although the outputs will still be available in the notebook"
   ]
  },
  {
   "cell_type": "code",
   "execution_count": 1,
   "metadata": {},
   "outputs": [],
   "source": [
    "import netCDF4 as nc\n",
    "from rich import print\n",
    "import pandas as pd\n",
    "from scipy import stats\n",
    "\n",
    "import imageio\n",
    "import os\n",
    "\n",
    "PATH = \"../data/1991TS\"\n",
    "# WIND SPEED OF GUST\n",
    "FG = \"fg.T1Hmax.UMRA2T.19910428_19910501.BOB01.4p4km.nc\"\n",
    "# RAINFALL\n",
    "PRLST = \"prlst.T1Hmean.UMRA2T.19910428_19910501.BOB01.4p4km.nc\"\n",
    "\n",
    "prlst = nc.Dataset(f\"{PATH}/{PRLST}\")\n",
    "fg = nc.Dataset(f\"{PATH}/{FG}\")\n",
    "\n",
    "\n",
    "# print(prlst.variables.values())"
   ]
  },
  {
   "cell_type": "markdown",
   "metadata": {},
   "source": [
    "## Now we are gonna load the requisite data\n",
    "Note that the lat and long should be the same, I may bother checking, lets find out!"
   ]
  },
  {
   "cell_type": "code",
   "execution_count": 2,
   "metadata": {},
   "outputs": [],
   "source": [
    "# I checked the dimensions!\n",
    "assert prlst.variables[\"latitude\"][:].shape == fg.variables[\"latitude\"][:].shape\n",
    "assert prlst.variables[\"longitude\"][:].shape == fg.variables[\"longitude\"][:].shape\n",
    "\n",
    "\n",
    "# COLUMNNS\n",
    "\n",
    "latitude = fg.variables[\"latitude\"][:]\n",
    "longitude = fg.variables[\"longitude\"][:]\n",
    "wind_speed = fg.variables[\"wind_speed_of_gust\"][:]\n",
    "rainfall = prlst.variables[\"stratiform_rainfall_amount\"]\n",
    "\n"
   ]
  },
  {
   "cell_type": "markdown",
   "metadata": {},
   "source": [
    "## Visualise\n",
    "\n",
    "I want to visualise both side-by-side to see how they affect eachother. \\\n",
    "Then I will see if I can communicate them both at the same time on the same visualisation\n",
    "\n",
    "What follows is a **function** that produces a gif out of a dependent variable. A dependent variable is one that changes over time, such as `wind_speed` \\\n",
    "Pass in to the function: the output filename, the longitude matrix (ex: `longitude`), the latitude matrix (ex: `longitude`), and the dependent variable matrix (ex: `wind_speed`)"
   ]
  },
  {
   "cell_type": "code",
   "execution_count": 3,
   "metadata": {},
   "outputs": [],
   "source": [
    "import matplotlib.pyplot as plt\n",
    "import numpy as np"
   ]
  },
  {
   "cell_type": "code",
   "execution_count": 17,
   "metadata": {},
   "outputs": [],
   "source": [
    "ensemble = 8\n",
    "def visualise(output_filename: str, long: np.ndarray, lat: np.ndarray, variable: np.ndarray):\n",
    "    \"\"\"\n",
    "    just a bog standard visualisation function for putting a time series variable on a long vs lat graph\n",
    "    variable should be a time series of frames\n",
    "    \"\"\"\n",
    "    filenames = []\n",
    "    maxlevel = variable[ensemble].max()\n",
    "    minlevel = variable[ensemble].min()\n",
    "    steps = 7\n",
    "    levels = [((maxlevel - minlevel)/steps) * val for val in list(range(steps))]\n",
    "    \n",
    "    for idx, frame in enumerate(variable):\n",
    "        fig, ax = plt.subplots()\n",
    "        cntr = ax.contourf(long, lat, frame[ensemble], levels=levels)\n",
    "        fig.colorbar(cntr, ax=ax)\n",
    "        filename = f\"vis/sc{idx}.png\"\n",
    "        filenames.append(filename)\n",
    "        plt.savefig(filename)\n",
    "        plt.close()\n",
    "        \n",
    "    # build gif\n",
    "    with imageio.get_writer(f\"vis/{output_filename}\", mode='I') as writer:\n",
    "        for filename in filenames:\n",
    "            image = imageio.imread(filename)\n",
    "            writer.append_data(image)\n",
    "            \n",
    "    # Remove files\n",
    "    # for filename in set(filenames):\n",
    "    #     os.remove(filename)\n",
    "        \n",
    "\n",
    "visualise(\"wind_speed.gif\", longitude, latitude, wind_speed)\n",
    "visualise(\"rainfall.gif\", longitude, latitude, rainfall)"
   ]
  },
  {
   "cell_type": "markdown",
   "metadata": {},
   "source": [
    "## Here we go boys\n",
    "\n",
    "![Windspeed](./vis/wind_speed.gif?arg)\n",
    "![Rainfall](./vis/rainfall.gif?arg)"
   ]
  },
  {
   "cell_type": "code",
   "execution_count": 27,
   "metadata": {},
   "outputs": [
    {
     "data": {
      "image/png": "[encoded data removed]",
      "text/plain": [
       "<Figure size 432x288 with 2 Axes>"
      ]
     },
     "metadata": {
      "needs_background": "light"
     },
     "output_type": "display_data"
    },
    {
     "data": {
      "image/png": "[encoded data removed]",
      "text/plain": [
       "<Figure size 432x288 with 2 Axes>"
      ]
     },
     "metadata": {
      "needs_background": "light"
     },
     "output_type": "display_data"
    }
   ],
   "source": []
  },
  {
   "cell_type": "code",
   "execution_count": 24,
   "metadata": {},
   "outputs": [
    {
     "data": {
      "text/plain": [
       "array(40.76060619)"
      ]
     },
     "execution_count": 24,
     "metadata": {},
     "output_type": "execute_result"
    }
   ],
   "source": [
    "np.cov(rainfall[10][8].flatten())\n",
    "np.cov(wind_speed[10][8].flatten())"
   ]
  },
  {
   "cell_type": "code",
   "execution_count": 6,
   "metadata": {},
   "outputs": [],
   "source": [
    "VA = \"va.T1Hpoint.UMRA2T.19910428_19910501.BOB01.4p4km.nc\"\n",
    "UA = \"ua.T1Hpoint.UMRA2T.19910428_19910501.BOB01.4p4km.nc\"\n",
    "va = nc.Dataset(f\"{PATH}/{VA}\")\n",
    "ua = nc.Dataset(f\"{PATH}/{UA}\")\n",
    "\n",
    "assert ua.variables[\"latitude\"][:].shape == va.variables[\"latitude\"][:].shape\n",
    "assert ua.variables[\"longitude\"][:].shape == va.variables[\"longitude\"][:].shape\n",
    "\n",
    "\n",
    "# COLUMNNS\n",
    "\n",
    "latitude = ua.variables[\"latitude\"][:]\n",
    "longitude = ua.variables[\"longitude\"][:]\n",
    "x_wind = ua.variables[\"x_wind\"][:][0]\n",
    "y_wind = va.variables[\"y_wind\"][:][0]\n",
    "\n",
    "visualise(\"x_wind.gif\", longitude, latitude, x_wind)\n",
    "visualise(\"y_wind.gif\", longitude, latitude, y_wind)"
   ]
  },
  {
   "cell_type": "markdown",
   "metadata": {},
   "source": [
    "## X wind and Y wind speeds\n",
    "![Windspeed](./vis/x_wind.gif)\n",
    "![Rainfall](./vis/y_wind.gif)\n",
    "\n",
    "Interesting how there are white values and purple values, are white values 0 or nonexistent"
   ]
  },
  {
   "cell_type": "code",
   "execution_count": 7,
   "metadata": {},
   "outputs": [
    {
     "data": {
      "text/html": [
       "<div>\n",
       "<style scoped>\n",
       "    .dataframe tbody tr th:only-of-type {\n",
       "        vertical-align: middle;\n",
       "    }\n",
       "\n",
       "    .dataframe tbody tr th {\n",
       "        vertical-align: top;\n",
       "    }\n",
       "\n",
       "    .dataframe thead th {\n",
       "        text-align: right;\n",
       "    }\n",
       "</style>\n",
       "<table border=\"1\" class=\"dataframe\">\n",
       "  <thead>\n",
       "    <tr style=\"text-align: right;\">\n",
       "      <th></th>\n",
       "      <th>0</th>\n",
       "    </tr>\n",
       "  </thead>\n",
       "  <tbody>\n",
       "    <tr>\n",
       "      <th>count</th>\n",
       "      <td>640710.000000</td>\n",
       "    </tr>\n",
       "    <tr>\n",
       "      <th>mean</th>\n",
       "      <td>0.396193</td>\n",
       "    </tr>\n",
       "    <tr>\n",
       "      <th>std</th>\n",
       "      <td>4.652210</td>\n",
       "    </tr>\n",
       "    <tr>\n",
       "      <th>min</th>\n",
       "      <td>-39.125000</td>\n",
       "    </tr>\n",
       "    <tr>\n",
       "      <th>25%</th>\n",
       "      <td>-2.375000</td>\n",
       "    </tr>\n",
       "    <tr>\n",
       "      <th>50%</th>\n",
       "      <td>0.000000</td>\n",
       "    </tr>\n",
       "    <tr>\n",
       "      <th>75%</th>\n",
       "      <td>2.625000</td>\n",
       "    </tr>\n",
       "    <tr>\n",
       "      <th>max</th>\n",
       "      <td>44.625000</td>\n",
       "    </tr>\n",
       "  </tbody>\n",
       "</table>\n",
       "</div>"
      ],
      "text/plain": [
       "                   0\n",
       "count  640710.000000\n",
       "mean        0.396193\n",
       "std         4.652210\n",
       "min       -39.125000\n",
       "25%        -2.375000\n",
       "50%         0.000000\n",
       "75%         2.625000\n",
       "max        44.625000"
      ]
     },
     "execution_count": 7,
     "metadata": {},
     "output_type": "execute_result"
    }
   ],
   "source": [
    "ydf = pd.DataFrame(y_wind[0].flatten())\n",
    "ydf.describe()"
   ]
  },
  {
   "cell_type": "code",
   "execution_count": 8,
   "metadata": {},
   "outputs": [
    {
     "data": {
      "text/html": [
       "<div>\n",
       "<style scoped>\n",
       "    .dataframe tbody tr th:only-of-type {\n",
       "        vertical-align: middle;\n",
       "    }\n",
       "\n",
       "    .dataframe tbody tr th {\n",
       "        vertical-align: top;\n",
       "    }\n",
       "\n",
       "    .dataframe thead th {\n",
       "        text-align: right;\n",
       "    }\n",
       "</style>\n",
       "<table border=\"1\" class=\"dataframe\">\n",
       "  <thead>\n",
       "    <tr style=\"text-align: right;\">\n",
       "      <th></th>\n",
       "      <th>0</th>\n",
       "    </tr>\n",
       "  </thead>\n",
       "  <tbody>\n",
       "    <tr>\n",
       "      <th>count</th>\n",
       "      <td>7994.0</td>\n",
       "    </tr>\n",
       "    <tr>\n",
       "      <th>mean</th>\n",
       "      <td>0.0</td>\n",
       "    </tr>\n",
       "    <tr>\n",
       "      <th>std</th>\n",
       "      <td>0.0</td>\n",
       "    </tr>\n",
       "    <tr>\n",
       "      <th>min</th>\n",
       "      <td>0.0</td>\n",
       "    </tr>\n",
       "    <tr>\n",
       "      <th>25%</th>\n",
       "      <td>0.0</td>\n",
       "    </tr>\n",
       "    <tr>\n",
       "      <th>50%</th>\n",
       "      <td>0.0</td>\n",
       "    </tr>\n",
       "    <tr>\n",
       "      <th>75%</th>\n",
       "      <td>0.0</td>\n",
       "    </tr>\n",
       "    <tr>\n",
       "      <th>max</th>\n",
       "      <td>0.0</td>\n",
       "    </tr>\n",
       "  </tbody>\n",
       "</table>\n",
       "</div>"
      ],
      "text/plain": [
       "            0\n",
       "count  7994.0\n",
       "mean      0.0\n",
       "std       0.0\n",
       "min       0.0\n",
       "25%       0.0\n",
       "50%       0.0\n",
       "75%       0.0\n",
       "max       0.0"
      ]
     },
     "execution_count": 8,
     "metadata": {},
     "output_type": "execute_result"
    }
   ],
   "source": [
    "ydf[ydf == 0].describe()"
   ]
  },
  {
   "cell_type": "code",
   "execution_count": 9,
   "metadata": {},
   "outputs": [
    {
     "data": {
      "text/html": [
       "<div>\n",
       "<style scoped>\n",
       "    .dataframe tbody tr th:only-of-type {\n",
       "        vertical-align: middle;\n",
       "    }\n",
       "\n",
       "    .dataframe tbody tr th {\n",
       "        vertical-align: top;\n",
       "    }\n",
       "\n",
       "    .dataframe thead th {\n",
       "        text-align: right;\n",
       "    }\n",
       "</style>\n",
       "<table border=\"1\" class=\"dataframe\">\n",
       "  <thead>\n",
       "    <tr style=\"text-align: right;\">\n",
       "      <th></th>\n",
       "      <th>0</th>\n",
       "    </tr>\n",
       "  </thead>\n",
       "  <tbody>\n",
       "    <tr>\n",
       "      <th>count</th>\n",
       "      <td>640710</td>\n",
       "    </tr>\n",
       "    <tr>\n",
       "      <th>unique</th>\n",
       "      <td>1</td>\n",
       "    </tr>\n",
       "    <tr>\n",
       "      <th>top</th>\n",
       "      <td>True</td>\n",
       "    </tr>\n",
       "    <tr>\n",
       "      <th>freq</th>\n",
       "      <td>640710</td>\n",
       "    </tr>\n",
       "  </tbody>\n",
       "</table>\n",
       "</div>"
      ],
      "text/plain": [
       "             0\n",
       "count   640710\n",
       "unique       1\n",
       "top       True\n",
       "freq    640710"
      ]
     },
     "execution_count": 9,
     "metadata": {},
     "output_type": "execute_result"
    }
   ],
   "source": [
    "ydf.notna().describe()"
   ]
  },
  {
   "cell_type": "markdown",
   "metadata": {},
   "source": [
    "Definitely not NaN values, and I don't think they are 0's either, as 0 only comprises around 1% of the total values, and there are mad white spaces in the visualisations"
   ]
  },
  {
   "cell_type": "markdown",
   "metadata": {},
   "source": [
    "## Correlation \n",
    "I believe x_wind and y_wind will be correlated as they have a common causality \\\n",
    "And indeed they do, flattened arrays have corresponding values at each index, and we cannot have a 2d input to the `cov` function. There is a positive correlation between the two variables of `2.65`"
   ]
  },
  {
   "cell_type": "code",
   "execution_count": 10,
   "metadata": {},
   "outputs": [
    {
     "data": {
      "text/plain": [
       "array([[18.91917784,  2.64766503],\n",
       "       [ 2.64766503, 22.95169916]])"
      ]
     },
     "execution_count": 10,
     "metadata": {},
     "output_type": "execute_result"
    }
   ],
   "source": [
    "flattened = [x_wind.flatten(), y_wind.flatten()]\n",
    "np.cov(flattened)"
   ]
  },
  {
   "cell_type": "markdown",
   "metadata": {},
   "source": [
    "**Pearson's correlation** indicates that the positive relationship between the two is insignificant, because `-0.5 < X < 0.5` \\\n",
    "This, however could be due to the nonlinearity of the correlation between the two. Around the areas away from the cyclone centre, the wind is random."
   ]
  },
  {
   "cell_type": "code",
   "execution_count": 11,
   "metadata": {},
   "outputs": [
    {
     "data": {
      "text/plain": [
       "array([[1.        , 0.12705872],\n",
       "       [0.12705872, 1.        ]])"
      ]
     },
     "execution_count": 11,
     "metadata": {},
     "output_type": "execute_result"
    }
   ],
   "source": [
    "np.corrcoef(flattened)"
   ]
  },
  {
   "cell_type": "markdown",
   "metadata": {},
   "source": [
    "**Spearman's correlation** helps us model nonlinear relationships"
   ]
  },
  {
   "cell_type": "code",
   "execution_count": 12,
   "metadata": {},
   "outputs": [
    {
     "data": {
      "text/plain": [
       "SpearmanrResult(correlation=0.17057875031756628, pvalue=0.0)"
      ]
     },
     "execution_count": 12,
     "metadata": {},
     "output_type": "execute_result"
    }
   ],
   "source": [
    "stats.spearmanr(flattened, axis=1)"
   ]
  },
  {
   "cell_type": "code",
   "execution_count": 13,
   "metadata": {},
   "outputs": [
    {
     "data": {
      "text/plain": [
       "SpearmanrResult(correlation=0.17057875031756628, pvalue=0.0)"
      ]
     },
     "execution_count": 13,
     "metadata": {},
     "output_type": "execute_result"
    }
   ],
   "source": [
    "stats.spearmanr(flattened[0], flattened[1])"
   ]
  },
  {
   "cell_type": "markdown",
   "metadata": {},
   "source": [
    "## B-tech graph"
   ]
  },
  {
   "cell_type": "code",
   "execution_count": 14,
   "metadata": {},
   "outputs": [
    {
     "data": {
      "image/png": "[encoded data removed]",
      "text/plain": [
       "<Figure size 432x288 with 1 Axes>"
      ]
     },
     "metadata": {
      "needs_background": "light"
     },
     "output_type": "display_data"
    }
   ],
   "source": [
    "plt.scatter(flattened[0], flattened[1])\n",
    "plt.show()"
   ]
  }
 ],
 "metadata": {
  "interpreter": {
   "hash": "aee8b7b246df8f9039afb4144a1f6fd8d2ca17a180786b69acc140d282b71a49"
  },
  "kernelspec": {
   "display_name": "Python 3.10.2 64-bit",
   "language": "python",
   "name": "python3"
  },
  "language_info": {
   "codemirror_mode": {
    "name": "ipython",
    "version": 3
   },
   "file_extension": ".py",
   "mimetype": "text/x-python",
   "name": "python",
   "nbconvert_exporter": "python",
   "pygments_lexer": "ipython3",
   "version": "3.10.2"
  },
  "orig_nbformat": 4
 },
 "nbformat": 4,
 "nbformat_minor": 2
}
