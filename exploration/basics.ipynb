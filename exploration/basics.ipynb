{
 "cells": [
  {
   "cell_type": "markdown",
   "metadata": {},
   "source": [
    "# Cyclone BOB01 1991 Time Series\n",
    "1991 file in `/data/1991TS`, should work with any file though"
   ]
  },
  {
   "cell_type": "code",
   "execution_count": 4,
   "metadata": {},
   "outputs": [
    {
     "data": {
      "text/plain": [
       "{'rim_removed': '13 point rim removed',\n",
       " 'um_version': '11.1',\n",
       " 'source': 'Copernicus Climate Change Service Information (C3S) ECMWF ERA5 / Met Office UM RA2T CON',\n",
       " 'Conventions': 'CF-1.7',\n",
       " 'contact': 'enquiries@metoffice.gov.uk',\n",
       " 'comment': 'Supported by the International Climate Initiative (IKI) and the Federal Ministry for the Environment, Nature Conservation and Nuclear Safety, based on a decision of the Germany Bundestag',\n",
       " 'data_type': 'grid',\n",
       " 'date_created': '20192730T15:27:10',\n",
       " 'geospatial_lat_max': '27.483002',\n",
       " 'geospatial_lat_min': '20.503502',\n",
       " 'geospatial_lat_resolution': '0.01',\n",
       " 'geospatial_lat_units': 'degrees_north',\n",
       " 'geospatial_lon_max': '92.942',\n",
       " 'geospatial_lon_min': '87.5555',\n",
       " 'geospatial_lon_resolution': '0.01',\n",
       " 'geospatial_lon_units': 'degrees_east',\n",
       " 'history': '(1.0) Initial release',\n",
       " 'id': 'tas.T24Hmax.UMRA2T.19970518_19970521.TC01B.1p5km.nc',\n",
       " 'institution': 'Met Office, UK',\n",
       " 'keywords': 'Bangladesh, dynamical downscaling, RA2T, Met Office',\n",
       " 'product_version': 'v1.0',\n",
       " 'project': 'Oasis Platform for Climate and Catastrophe Risk Assessment – Asia',\n",
       " 'references': '',\n",
       " 'standard_name_vocabulary': 'NetCDF Climate and Forecast (CF) Standard Names version 51',\n",
       " 'summary': 'Tropical cyclone data over Bangladesh downscaled using Met Office RA2T_CON initiated from ERA5',\n",
       " 'title': 'Downscaled Tropical Cyclone data over Bangladesh',\n",
       " 'type': 'float',\n",
       " 'spatial_resolution': '4.4km',\n",
       " 'licence': 'Creative Commons Attribution 4.0 International (CC BY 4.0)'}"
      ]
     },
     "execution_count": 4,
     "metadata": {},
     "output_type": "execute_result"
    }
   ],
   "source": [
    "import netCDF4 as nc\n",
    "from rich import print\n",
    "\n",
    "PATH = '../sample_data/1997TS'\n",
    "FILENAME = 'tas.T24Hmax.UMRA2T.19970518_19970521.TC01B.1p5km.nc'\n",
    "\n",
    "fn = f\"{PATH}/{FILENAME}\"\n",
    "ds = nc.Dataset(fn)\n",
    "ds.__dict__\n"
   ]
  },
  {
   "cell_type": "code",
   "execution_count": 5,
   "metadata": {},
   "outputs": [
    {
     "data": {
      "text/html": [
       "<pre style=\"white-space:pre;overflow-x:auto;line-height:normal;font-family:Menlo,'DejaVu Sans Mono',consolas,'Courier New',monospace\"><span style=\"color: #800000; text-decoration-color: #800000; font-weight: bold\"> Dimensions</span>\n",
       "</pre>\n"
      ],
      "text/plain": [
       "\u001b[1;31m Dimensions\u001b[0m\n"
      ]
     },
     "metadata": {},
     "output_type": "display_data"
    },
    {
     "data": {
      "text/html": [
       "<pre style=\"white-space:pre;overflow-x:auto;line-height:normal;font-family:Menlo,'DejaVu Sans Mono',consolas,'Courier New',monospace\"><span style=\"font-weight: bold\">&lt;</span><span style=\"color: #ff00ff; text-decoration-color: #ff00ff; font-weight: bold\">class</span><span style=\"color: #000000; text-decoration-color: #000000\"> </span><span style=\"color: #008000; text-decoration-color: #008000\">'netCDF4._netCDF4.Dimension'</span><span style=\"font-weight: bold\">&gt;</span>: name = <span style=\"color: #008000; text-decoration-color: #008000\">'forecast_period'</span>, size = <span style=\"color: #008080; text-decoration-color: #008080; font-weight: bold\">2</span>\n",
       "</pre>\n"
      ],
      "text/plain": [
       "\u001b[1m<\u001b[0m\u001b[1;95mclass\u001b[0m\u001b[39m \u001b[0m\u001b[32m'netCDF4._netCDF4.Dimension'\u001b[0m\u001b[1m>\u001b[0m: name = \u001b[32m'forecast_period'\u001b[0m, size = \u001b[1;36m2\u001b[0m\n"
      ]
     },
     "metadata": {},
     "output_type": "display_data"
    },
    {
     "data": {
      "text/html": [
       "<pre style=\"white-space:pre;overflow-x:auto;line-height:normal;font-family:Menlo,'DejaVu Sans Mono',consolas,'Courier New',monospace\"><span style=\"font-weight: bold\">&lt;</span><span style=\"color: #ff00ff; text-decoration-color: #ff00ff; font-weight: bold\">class</span><span style=\"color: #000000; text-decoration-color: #000000\"> </span><span style=\"color: #008000; text-decoration-color: #008000\">'netCDF4._netCDF4.Dimension'</span><span style=\"font-weight: bold\">&gt;</span>: name = <span style=\"color: #008000; text-decoration-color: #008000\">'forecast_reference_time'</span>, size = <span style=\"color: #008080; text-decoration-color: #008080; font-weight: bold\">9</span>\n",
       "</pre>\n"
      ],
      "text/plain": [
       "\u001b[1m<\u001b[0m\u001b[1;95mclass\u001b[0m\u001b[39m \u001b[0m\u001b[32m'netCDF4._netCDF4.Dimension'\u001b[0m\u001b[1m>\u001b[0m: name = \u001b[32m'forecast_reference_time'\u001b[0m, size = \u001b[1;36m9\u001b[0m\n"
      ]
     },
     "metadata": {},
     "output_type": "display_data"
    },
    {
     "data": {
      "text/html": [
       "<pre style=\"white-space:pre;overflow-x:auto;line-height:normal;font-family:Menlo,'DejaVu Sans Mono',consolas,'Courier New',monospace\"><span style=\"font-weight: bold\">&lt;</span><span style=\"color: #ff00ff; text-decoration-color: #ff00ff; font-weight: bold\">class</span><span style=\"color: #000000; text-decoration-color: #000000\"> </span><span style=\"color: #008000; text-decoration-color: #008000\">'netCDF4._netCDF4.Dimension'</span><span style=\"font-weight: bold\">&gt;</span>: name = <span style=\"color: #008000; text-decoration-color: #008000\">'latitude'</span>, size = <span style=\"color: #008080; text-decoration-color: #008080; font-weight: bold\">518</span>\n",
       "</pre>\n"
      ],
      "text/plain": [
       "\u001b[1m<\u001b[0m\u001b[1;95mclass\u001b[0m\u001b[39m \u001b[0m\u001b[32m'netCDF4._netCDF4.Dimension'\u001b[0m\u001b[1m>\u001b[0m: name = \u001b[32m'latitude'\u001b[0m, size = \u001b[1;36m518\u001b[0m\n"
      ]
     },
     "metadata": {},
     "output_type": "display_data"
    },
    {
     "data": {
      "text/html": [
       "<pre style=\"white-space:pre;overflow-x:auto;line-height:normal;font-family:Menlo,'DejaVu Sans Mono',consolas,'Courier New',monospace\"><span style=\"font-weight: bold\">&lt;</span><span style=\"color: #ff00ff; text-decoration-color: #ff00ff; font-weight: bold\">class</span><span style=\"color: #000000; text-decoration-color: #000000\"> </span><span style=\"color: #008000; text-decoration-color: #008000\">'netCDF4._netCDF4.Dimension'</span><span style=\"font-weight: bold\">&gt;</span>: name = <span style=\"color: #008000; text-decoration-color: #008000\">'longitude'</span>, size = <span style=\"color: #008080; text-decoration-color: #008080; font-weight: bold\">400</span>\n",
       "</pre>\n"
      ],
      "text/plain": [
       "\u001b[1m<\u001b[0m\u001b[1;95mclass\u001b[0m\u001b[39m \u001b[0m\u001b[32m'netCDF4._netCDF4.Dimension'\u001b[0m\u001b[1m>\u001b[0m: name = \u001b[32m'longitude'\u001b[0m, size = \u001b[1;36m400\u001b[0m\n"
      ]
     },
     "metadata": {},
     "output_type": "display_data"
    },
    {
     "data": {
      "text/html": [
       "<pre style=\"white-space:pre;overflow-x:auto;line-height:normal;font-family:Menlo,'DejaVu Sans Mono',consolas,'Courier New',monospace\"><span style=\"font-weight: bold\">&lt;</span><span style=\"color: #ff00ff; text-decoration-color: #ff00ff; font-weight: bold\">class</span><span style=\"color: #000000; text-decoration-color: #000000\"> </span><span style=\"color: #008000; text-decoration-color: #008000\">'netCDF4._netCDF4.Dimension'</span><span style=\"font-weight: bold\">&gt;</span>: name = <span style=\"color: #008000; text-decoration-color: #008000\">'bnds'</span>, size = <span style=\"color: #008080; text-decoration-color: #008080; font-weight: bold\">2</span>\n",
       "</pre>\n"
      ],
      "text/plain": [
       "\u001b[1m<\u001b[0m\u001b[1;95mclass\u001b[0m\u001b[39m \u001b[0m\u001b[32m'netCDF4._netCDF4.Dimension'\u001b[0m\u001b[1m>\u001b[0m: name = \u001b[32m'bnds'\u001b[0m, size = \u001b[1;36m2\u001b[0m\n"
      ]
     },
     "metadata": {},
     "output_type": "display_data"
    },
    {
     "data": {
      "text/html": [
       "<pre style=\"white-space:pre;overflow-x:auto;line-height:normal;font-family:Menlo,'DejaVu Sans Mono',consolas,'Courier New',monospace\"><span style=\"color: #800000; text-decoration-color: #800000; font-weight: bold\"> Variables</span>\n",
       "</pre>\n"
      ],
      "text/plain": [
       "\u001b[1;31m Variables\u001b[0m\n"
      ]
     },
     "metadata": {},
     "output_type": "display_data"
    },
    {
     "data": {
      "text/html": [
       "<pre style=\"white-space:pre;overflow-x:auto;line-height:normal;font-family:Menlo,'DejaVu Sans Mono',consolas,'Courier New',monospace\"><span style=\"font-weight: bold\">&lt;</span><span style=\"color: #ff00ff; text-decoration-color: #ff00ff; font-weight: bold\">class</span><span style=\"color: #000000; text-decoration-color: #000000\"> </span><span style=\"color: #008000; text-decoration-color: #008000\">'netCDF4._netCDF4.Variable'</span><span style=\"font-weight: bold\">&gt;</span>\n",
       "float32 <span style=\"color: #800080; text-decoration-color: #800080; font-weight: bold\">air_temperature</span><span style=\"font-weight: bold\">(</span>forecast_period, forecast_reference_time, latitude, longitude<span style=\"font-weight: bold\">)</span>\n",
       "    standard_name: air_temperature\n",
       "    units: K\n",
       "    um_stash_source: m01s03i236\n",
       "    cell_methods: time: maximum\n",
       "    grid_mapping: latitude_longitude\n",
       "    coordinates: height time\n",
       "unlimited dimensions: \n",
       "current shape = <span style=\"font-weight: bold\">(</span><span style=\"color: #008080; text-decoration-color: #008080; font-weight: bold\">2</span>, <span style=\"color: #008080; text-decoration-color: #008080; font-weight: bold\">9</span>, <span style=\"color: #008080; text-decoration-color: #008080; font-weight: bold\">518</span>, <span style=\"color: #008080; text-decoration-color: #008080; font-weight: bold\">400</span><span style=\"font-weight: bold\">)</span>\n",
       "filling on, default _FillValue of <span style=\"color: #008080; text-decoration-color: #008080; font-weight: bold\">9.969209968386869e+36</span> used\n",
       "</pre>\n"
      ],
      "text/plain": [
       "\u001b[1m<\u001b[0m\u001b[1;95mclass\u001b[0m\u001b[39m \u001b[0m\u001b[32m'netCDF4._netCDF4.Variable'\u001b[0m\u001b[1m>\u001b[0m\n",
       "float32 \u001b[1;35mair_temperature\u001b[0m\u001b[1m(\u001b[0mforecast_period, forecast_reference_time, latitude, longitude\u001b[1m)\u001b[0m\n",
       "    standard_name: air_temperature\n",
       "    units: K\n",
       "    um_stash_source: m01s03i236\n",
       "    cell_methods: time: maximum\n",
       "    grid_mapping: latitude_longitude\n",
       "    coordinates: height time\n",
       "unlimited dimensions: \n",
       "current shape = \u001b[1m(\u001b[0m\u001b[1;36m2\u001b[0m, \u001b[1;36m9\u001b[0m, \u001b[1;36m518\u001b[0m, \u001b[1;36m400\u001b[0m\u001b[1m)\u001b[0m\n",
       "filling on, default _FillValue of \u001b[1;36m9.969209968386869e+36\u001b[0m used\n"
      ]
     },
     "metadata": {},
     "output_type": "display_data"
    },
    {
     "data": {
      "text/html": [
       "<pre style=\"white-space:pre;overflow-x:auto;line-height:normal;font-family:Menlo,'DejaVu Sans Mono',consolas,'Courier New',monospace\"><span style=\"font-weight: bold\">&lt;</span><span style=\"color: #ff00ff; text-decoration-color: #ff00ff; font-weight: bold\">class</span><span style=\"color: #000000; text-decoration-color: #000000\"> </span><span style=\"color: #008000; text-decoration-color: #008000\">'netCDF4._netCDF4.Variable'</span><span style=\"font-weight: bold\">&gt;</span>\n",
       "int32 <span style=\"color: #800080; text-decoration-color: #800080; font-weight: bold\">latitude_longitude</span><span style=\"font-weight: bold\">()</span>\n",
       "    grid_mapping_name: latitude_longitude\n",
       "    longitude_of_prime_meridian: <span style=\"color: #008080; text-decoration-color: #008080; font-weight: bold\">0.0</span>\n",
       "    earth_radius: <span style=\"color: #008080; text-decoration-color: #008080; font-weight: bold\">6371229.0</span>\n",
       "    proj4: +<span style=\"color: #808000; text-decoration-color: #808000\">proj</span>=<span style=\"color: #800080; text-decoration-color: #800080\">longlat</span> +<span style=\"color: #808000; text-decoration-color: #808000\">ellps</span>=<span style=\"color: #800080; text-decoration-color: #800080\">WGS84</span> +<span style=\"color: #808000; text-decoration-color: #808000\">datum</span>=<span style=\"color: #800080; text-decoration-color: #800080\">WGS84</span> +no_defs\n",
       "unlimited dimensions: \n",
       "current shape = <span style=\"font-weight: bold\">()</span>\n",
       "filling on, default _FillValue of <span style=\"color: #008080; text-decoration-color: #008080; font-weight: bold\">-2147483647</span> used\n",
       "</pre>\n"
      ],
      "text/plain": [
       "\u001b[1m<\u001b[0m\u001b[1;95mclass\u001b[0m\u001b[39m \u001b[0m\u001b[32m'netCDF4._netCDF4.Variable'\u001b[0m\u001b[1m>\u001b[0m\n",
       "int32 \u001b[1;35mlatitude_longitude\u001b[0m\u001b[1m(\u001b[0m\u001b[1m)\u001b[0m\n",
       "    grid_mapping_name: latitude_longitude\n",
       "    longitude_of_prime_meridian: \u001b[1;36m0.0\u001b[0m\n",
       "    earth_radius: \u001b[1;36m6371229.0\u001b[0m\n",
       "    proj4: +\u001b[33mproj\u001b[0m=\u001b[35mlonglat\u001b[0m +\u001b[33mellps\u001b[0m=\u001b[35mWGS84\u001b[0m +\u001b[33mdatum\u001b[0m=\u001b[35mWGS84\u001b[0m +no_defs\n",
       "unlimited dimensions: \n",
       "current shape = \u001b[1m(\u001b[0m\u001b[1m)\u001b[0m\n",
       "filling on, default _FillValue of \u001b[1;36m-2147483647\u001b[0m used\n"
      ]
     },
     "metadata": {},
     "output_type": "display_data"
    },
    {
     "data": {
      "text/html": [
       "<pre style=\"white-space:pre;overflow-x:auto;line-height:normal;font-family:Menlo,'DejaVu Sans Mono',consolas,'Courier New',monospace\"><span style=\"font-weight: bold\">&lt;</span><span style=\"color: #ff00ff; text-decoration-color: #ff00ff; font-weight: bold\">class</span><span style=\"color: #000000; text-decoration-color: #000000\"> </span><span style=\"color: #008000; text-decoration-color: #008000\">'netCDF4._netCDF4.Variable'</span><span style=\"font-weight: bold\">&gt;</span>\n",
       "float64 <span style=\"color: #800080; text-decoration-color: #800080; font-weight: bold\">forecast_period</span><span style=\"font-weight: bold\">(</span>forecast_period<span style=\"font-weight: bold\">)</span>\n",
       "    bounds: forecast_period_bnds\n",
       "    units: hours\n",
       "    standard_name: forecast_period\n",
       "unlimited dimensions: \n",
       "current shape = <span style=\"font-weight: bold\">(</span><span style=\"color: #008080; text-decoration-color: #008080; font-weight: bold\">2</span>,<span style=\"font-weight: bold\">)</span>\n",
       "filling on, default _FillValue of <span style=\"color: #008080; text-decoration-color: #008080; font-weight: bold\">9.969209968386869e+36</span> used\n",
       "</pre>\n"
      ],
      "text/plain": [
       "\u001b[1m<\u001b[0m\u001b[1;95mclass\u001b[0m\u001b[39m \u001b[0m\u001b[32m'netCDF4._netCDF4.Variable'\u001b[0m\u001b[1m>\u001b[0m\n",
       "float64 \u001b[1;35mforecast_period\u001b[0m\u001b[1m(\u001b[0mforecast_period\u001b[1m)\u001b[0m\n",
       "    bounds: forecast_period_bnds\n",
       "    units: hours\n",
       "    standard_name: forecast_period\n",
       "unlimited dimensions: \n",
       "current shape = \u001b[1m(\u001b[0m\u001b[1;36m2\u001b[0m,\u001b[1m)\u001b[0m\n",
       "filling on, default _FillValue of \u001b[1;36m9.969209968386869e+36\u001b[0m used\n"
      ]
     },
     "metadata": {},
     "output_type": "display_data"
    },
    {
     "data": {
      "text/html": [
       "<pre style=\"white-space:pre;overflow-x:auto;line-height:normal;font-family:Menlo,'DejaVu Sans Mono',consolas,'Courier New',monospace\"><span style=\"font-weight: bold\">&lt;</span><span style=\"color: #ff00ff; text-decoration-color: #ff00ff; font-weight: bold\">class</span><span style=\"color: #000000; text-decoration-color: #000000\"> </span><span style=\"color: #008000; text-decoration-color: #008000\">'netCDF4._netCDF4.Variable'</span><span style=\"font-weight: bold\">&gt;</span>\n",
       "float64 <span style=\"color: #800080; text-decoration-color: #800080; font-weight: bold\">forecast_period_bnds</span><span style=\"font-weight: bold\">(</span>forecast_period, bnds<span style=\"font-weight: bold\">)</span>\n",
       "unlimited dimensions: \n",
       "current shape = <span style=\"font-weight: bold\">(</span><span style=\"color: #008080; text-decoration-color: #008080; font-weight: bold\">2</span>, <span style=\"color: #008080; text-decoration-color: #008080; font-weight: bold\">2</span><span style=\"font-weight: bold\">)</span>\n",
       "filling on, default _FillValue of <span style=\"color: #008080; text-decoration-color: #008080; font-weight: bold\">9.969209968386869e+36</span> used\n",
       "</pre>\n"
      ],
      "text/plain": [
       "\u001b[1m<\u001b[0m\u001b[1;95mclass\u001b[0m\u001b[39m \u001b[0m\u001b[32m'netCDF4._netCDF4.Variable'\u001b[0m\u001b[1m>\u001b[0m\n",
       "float64 \u001b[1;35mforecast_period_bnds\u001b[0m\u001b[1m(\u001b[0mforecast_period, bnds\u001b[1m)\u001b[0m\n",
       "unlimited dimensions: \n",
       "current shape = \u001b[1m(\u001b[0m\u001b[1;36m2\u001b[0m, \u001b[1;36m2\u001b[0m\u001b[1m)\u001b[0m\n",
       "filling on, default _FillValue of \u001b[1;36m9.969209968386869e+36\u001b[0m used\n"
      ]
     },
     "metadata": {},
     "output_type": "display_data"
    },
    {
     "data": {
      "text/html": [
       "<pre style=\"white-space:pre;overflow-x:auto;line-height:normal;font-family:Menlo,'DejaVu Sans Mono',consolas,'Courier New',monospace\"><span style=\"font-weight: bold\">&lt;</span><span style=\"color: #ff00ff; text-decoration-color: #ff00ff; font-weight: bold\">class</span><span style=\"color: #000000; text-decoration-color: #000000\"> </span><span style=\"color: #008000; text-decoration-color: #008000\">'netCDF4._netCDF4.Variable'</span><span style=\"font-weight: bold\">&gt;</span>\n",
       "float64 <span style=\"color: #800080; text-decoration-color: #800080; font-weight: bold\">forecast_reference_time</span><span style=\"font-weight: bold\">(</span>forecast_reference_time<span style=\"font-weight: bold\">)</span>\n",
       "    axis: T\n",
       "    units: hours since <span style=\"color: #008080; text-decoration-color: #008080; font-weight: bold\">1970</span>-<span style=\"color: #008080; text-decoration-color: #008080; font-weight: bold\">01</span>-<span style=\"color: #008080; text-decoration-color: #008080; font-weight: bold\">01</span> <span style=\"color: #00ff00; text-decoration-color: #00ff00; font-weight: bold\">00:00:00</span>\n",
       "    standard_name: forecast_reference_time\n",
       "    calendar: gregorian\n",
       "unlimited dimensions: \n",
       "current shape = <span style=\"font-weight: bold\">(</span><span style=\"color: #008080; text-decoration-color: #008080; font-weight: bold\">9</span>,<span style=\"font-weight: bold\">)</span>\n",
       "filling on, default _FillValue of <span style=\"color: #008080; text-decoration-color: #008080; font-weight: bold\">9.969209968386869e+36</span> used\n",
       "</pre>\n"
      ],
      "text/plain": [
       "\u001b[1m<\u001b[0m\u001b[1;95mclass\u001b[0m\u001b[39m \u001b[0m\u001b[32m'netCDF4._netCDF4.Variable'\u001b[0m\u001b[1m>\u001b[0m\n",
       "float64 \u001b[1;35mforecast_reference_time\u001b[0m\u001b[1m(\u001b[0mforecast_reference_time\u001b[1m)\u001b[0m\n",
       "    axis: T\n",
       "    units: hours since \u001b[1;36m1970\u001b[0m-\u001b[1;36m01\u001b[0m-\u001b[1;36m01\u001b[0m \u001b[1;92m00:00:00\u001b[0m\n",
       "    standard_name: forecast_reference_time\n",
       "    calendar: gregorian\n",
       "unlimited dimensions: \n",
       "current shape = \u001b[1m(\u001b[0m\u001b[1;36m9\u001b[0m,\u001b[1m)\u001b[0m\n",
       "filling on, default _FillValue of \u001b[1;36m9.969209968386869e+36\u001b[0m used\n"
      ]
     },
     "metadata": {},
     "output_type": "display_data"
    },
    {
     "data": {
      "text/html": [
       "<pre style=\"white-space:pre;overflow-x:auto;line-height:normal;font-family:Menlo,'DejaVu Sans Mono',consolas,'Courier New',monospace\"><span style=\"font-weight: bold\">&lt;</span><span style=\"color: #ff00ff; text-decoration-color: #ff00ff; font-weight: bold\">class</span><span style=\"color: #000000; text-decoration-color: #000000\"> </span><span style=\"color: #008000; text-decoration-color: #008000\">'netCDF4._netCDF4.Variable'</span><span style=\"font-weight: bold\">&gt;</span>\n",
       "float32 <span style=\"color: #800080; text-decoration-color: #800080; font-weight: bold\">latitude</span><span style=\"font-weight: bold\">(</span>latitude<span style=\"font-weight: bold\">)</span>\n",
       "    axis: Y\n",
       "    units: degrees_north\n",
       "    standard_name: latitude\n",
       "unlimited dimensions: \n",
       "current shape = <span style=\"font-weight: bold\">(</span><span style=\"color: #008080; text-decoration-color: #008080; font-weight: bold\">518</span>,<span style=\"font-weight: bold\">)</span>\n",
       "filling on, default _FillValue of <span style=\"color: #008080; text-decoration-color: #008080; font-weight: bold\">9.969209968386869e+36</span> used\n",
       "</pre>\n"
      ],
      "text/plain": [
       "\u001b[1m<\u001b[0m\u001b[1;95mclass\u001b[0m\u001b[39m \u001b[0m\u001b[32m'netCDF4._netCDF4.Variable'\u001b[0m\u001b[1m>\u001b[0m\n",
       "float32 \u001b[1;35mlatitude\u001b[0m\u001b[1m(\u001b[0mlatitude\u001b[1m)\u001b[0m\n",
       "    axis: Y\n",
       "    units: degrees_north\n",
       "    standard_name: latitude\n",
       "unlimited dimensions: \n",
       "current shape = \u001b[1m(\u001b[0m\u001b[1;36m518\u001b[0m,\u001b[1m)\u001b[0m\n",
       "filling on, default _FillValue of \u001b[1;36m9.969209968386869e+36\u001b[0m used\n"
      ]
     },
     "metadata": {},
     "output_type": "display_data"
    },
    {
     "data": {
      "text/html": [
       "<pre style=\"white-space:pre;overflow-x:auto;line-height:normal;font-family:Menlo,'DejaVu Sans Mono',consolas,'Courier New',monospace\"><span style=\"font-weight: bold\">&lt;</span><span style=\"color: #ff00ff; text-decoration-color: #ff00ff; font-weight: bold\">class</span><span style=\"color: #000000; text-decoration-color: #000000\"> </span><span style=\"color: #008000; text-decoration-color: #008000\">'netCDF4._netCDF4.Variable'</span><span style=\"font-weight: bold\">&gt;</span>\n",
       "float32 <span style=\"color: #800080; text-decoration-color: #800080; font-weight: bold\">longitude</span><span style=\"font-weight: bold\">(</span>longitude<span style=\"font-weight: bold\">)</span>\n",
       "    axis: X\n",
       "    units: degrees_east\n",
       "    standard_name: longitude\n",
       "unlimited dimensions: \n",
       "current shape = <span style=\"font-weight: bold\">(</span><span style=\"color: #008080; text-decoration-color: #008080; font-weight: bold\">400</span>,<span style=\"font-weight: bold\">)</span>\n",
       "filling on, default _FillValue of <span style=\"color: #008080; text-decoration-color: #008080; font-weight: bold\">9.969209968386869e+36</span> used\n",
       "</pre>\n"
      ],
      "text/plain": [
       "\u001b[1m<\u001b[0m\u001b[1;95mclass\u001b[0m\u001b[39m \u001b[0m\u001b[32m'netCDF4._netCDF4.Variable'\u001b[0m\u001b[1m>\u001b[0m\n",
       "float32 \u001b[1;35mlongitude\u001b[0m\u001b[1m(\u001b[0mlongitude\u001b[1m)\u001b[0m\n",
       "    axis: X\n",
       "    units: degrees_east\n",
       "    standard_name: longitude\n",
       "unlimited dimensions: \n",
       "current shape = \u001b[1m(\u001b[0m\u001b[1;36m400\u001b[0m,\u001b[1m)\u001b[0m\n",
       "filling on, default _FillValue of \u001b[1;36m9.969209968386869e+36\u001b[0m used\n"
      ]
     },
     "metadata": {},
     "output_type": "display_data"
    },
    {
     "data": {
      "text/html": [
       "<pre style=\"white-space:pre;overflow-x:auto;line-height:normal;font-family:Menlo,'DejaVu Sans Mono',consolas,'Courier New',monospace\"><span style=\"font-weight: bold\">&lt;</span><span style=\"color: #ff00ff; text-decoration-color: #ff00ff; font-weight: bold\">class</span><span style=\"color: #000000; text-decoration-color: #000000\"> </span><span style=\"color: #008000; text-decoration-color: #008000\">'netCDF4._netCDF4.Variable'</span><span style=\"font-weight: bold\">&gt;</span>\n",
       "float64 <span style=\"color: #800080; text-decoration-color: #800080; font-weight: bold\">height</span><span style=\"font-weight: bold\">()</span>\n",
       "    units: m\n",
       "    standard_name: height\n",
       "    positive: up\n",
       "unlimited dimensions: \n",
       "current shape = <span style=\"font-weight: bold\">()</span>\n",
       "filling on, default _FillValue of <span style=\"color: #008080; text-decoration-color: #008080; font-weight: bold\">9.969209968386869e+36</span> used\n",
       "</pre>\n"
      ],
      "text/plain": [
       "\u001b[1m<\u001b[0m\u001b[1;95mclass\u001b[0m\u001b[39m \u001b[0m\u001b[32m'netCDF4._netCDF4.Variable'\u001b[0m\u001b[1m>\u001b[0m\n",
       "float64 \u001b[1;35mheight\u001b[0m\u001b[1m(\u001b[0m\u001b[1m)\u001b[0m\n",
       "    units: m\n",
       "    standard_name: height\n",
       "    positive: up\n",
       "unlimited dimensions: \n",
       "current shape = \u001b[1m(\u001b[0m\u001b[1m)\u001b[0m\n",
       "filling on, default _FillValue of \u001b[1;36m9.969209968386869e+36\u001b[0m used\n"
      ]
     },
     "metadata": {},
     "output_type": "display_data"
    },
    {
     "data": {
      "text/html": [
       "<pre style=\"white-space:pre;overflow-x:auto;line-height:normal;font-family:Menlo,'DejaVu Sans Mono',consolas,'Courier New',monospace\"><span style=\"font-weight: bold\">&lt;</span><span style=\"color: #ff00ff; text-decoration-color: #ff00ff; font-weight: bold\">class</span><span style=\"color: #000000; text-decoration-color: #000000\"> </span><span style=\"color: #008000; text-decoration-color: #008000\">'netCDF4._netCDF4.Variable'</span><span style=\"font-weight: bold\">&gt;</span>\n",
       "float64 <span style=\"color: #800080; text-decoration-color: #800080; font-weight: bold\">time</span><span style=\"font-weight: bold\">(</span>forecast_reference_time, forecast_period<span style=\"font-weight: bold\">)</span>\n",
       "    bounds: time_bnds\n",
       "    units: hours since <span style=\"color: #008080; text-decoration-color: #008080; font-weight: bold\">1970</span>-<span style=\"color: #008080; text-decoration-color: #008080; font-weight: bold\">01</span>-<span style=\"color: #008080; text-decoration-color: #008080; font-weight: bold\">01</span> <span style=\"color: #00ff00; text-decoration-color: #00ff00; font-weight: bold\">00:00:00</span>\n",
       "    standard_name: time\n",
       "    calendar: gregorian\n",
       "unlimited dimensions: \n",
       "current shape = <span style=\"font-weight: bold\">(</span><span style=\"color: #008080; text-decoration-color: #008080; font-weight: bold\">9</span>, <span style=\"color: #008080; text-decoration-color: #008080; font-weight: bold\">2</span><span style=\"font-weight: bold\">)</span>\n",
       "filling on, default _FillValue of <span style=\"color: #008080; text-decoration-color: #008080; font-weight: bold\">9.969209968386869e+36</span> used\n",
       "</pre>\n"
      ],
      "text/plain": [
       "\u001b[1m<\u001b[0m\u001b[1;95mclass\u001b[0m\u001b[39m \u001b[0m\u001b[32m'netCDF4._netCDF4.Variable'\u001b[0m\u001b[1m>\u001b[0m\n",
       "float64 \u001b[1;35mtime\u001b[0m\u001b[1m(\u001b[0mforecast_reference_time, forecast_period\u001b[1m)\u001b[0m\n",
       "    bounds: time_bnds\n",
       "    units: hours since \u001b[1;36m1970\u001b[0m-\u001b[1;36m01\u001b[0m-\u001b[1;36m01\u001b[0m \u001b[1;92m00:00:00\u001b[0m\n",
       "    standard_name: time\n",
       "    calendar: gregorian\n",
       "unlimited dimensions: \n",
       "current shape = \u001b[1m(\u001b[0m\u001b[1;36m9\u001b[0m, \u001b[1;36m2\u001b[0m\u001b[1m)\u001b[0m\n",
       "filling on, default _FillValue of \u001b[1;36m9.969209968386869e+36\u001b[0m used\n"
      ]
     },
     "metadata": {},
     "output_type": "display_data"
    },
    {
     "data": {
      "text/html": [
       "<pre style=\"white-space:pre;overflow-x:auto;line-height:normal;font-family:Menlo,'DejaVu Sans Mono',consolas,'Courier New',monospace\"><span style=\"font-weight: bold\">&lt;</span><span style=\"color: #ff00ff; text-decoration-color: #ff00ff; font-weight: bold\">class</span><span style=\"color: #000000; text-decoration-color: #000000\"> </span><span style=\"color: #008000; text-decoration-color: #008000\">'netCDF4._netCDF4.Variable'</span><span style=\"font-weight: bold\">&gt;</span>\n",
       "float64 <span style=\"color: #800080; text-decoration-color: #800080; font-weight: bold\">time_bnds</span><span style=\"font-weight: bold\">(</span>forecast_reference_time, forecast_period, bnds<span style=\"font-weight: bold\">)</span>\n",
       "unlimited dimensions: \n",
       "current shape = <span style=\"font-weight: bold\">(</span><span style=\"color: #008080; text-decoration-color: #008080; font-weight: bold\">9</span>, <span style=\"color: #008080; text-decoration-color: #008080; font-weight: bold\">2</span>, <span style=\"color: #008080; text-decoration-color: #008080; font-weight: bold\">2</span><span style=\"font-weight: bold\">)</span>\n",
       "filling on, default _FillValue of <span style=\"color: #008080; text-decoration-color: #008080; font-weight: bold\">9.969209968386869e+36</span> used\n",
       "</pre>\n"
      ],
      "text/plain": [
       "\u001b[1m<\u001b[0m\u001b[1;95mclass\u001b[0m\u001b[39m \u001b[0m\u001b[32m'netCDF4._netCDF4.Variable'\u001b[0m\u001b[1m>\u001b[0m\n",
       "float64 \u001b[1;35mtime_bnds\u001b[0m\u001b[1m(\u001b[0mforecast_reference_time, forecast_period, bnds\u001b[1m)\u001b[0m\n",
       "unlimited dimensions: \n",
       "current shape = \u001b[1m(\u001b[0m\u001b[1;36m9\u001b[0m, \u001b[1;36m2\u001b[0m, \u001b[1;36m2\u001b[0m\u001b[1m)\u001b[0m\n",
       "filling on, default _FillValue of \u001b[1;36m9.969209968386869e+36\u001b[0m used\n"
      ]
     },
     "metadata": {},
     "output_type": "display_data"
    }
   ],
   "source": [
    "print(\"[bold red] Dimensions\")\n",
    "for dim in ds.dimensions.values():\n",
    "    print(dim)\n",
    "\n",
    "print(\"[bold red] Variables\")\n",
    "for var in ds.variables.values():\n",
    "    print(var)"
   ]
  },
  {
   "cell_type": "markdown",
   "metadata": {},
   "source": [
    "## Variables\n",
    "Listed above are all the variables for the dataset, although I have no idea how they actually work \\\n",
    "Maybe the parameters they describe are column indicies"
   ]
  },
  {
   "cell_type": "code",
   "execution_count": 6,
   "metadata": {},
   "outputs": [
    {
     "data": {
      "text/plain": [
       "array(239955.)"
      ]
     },
     "execution_count": 6,
     "metadata": {},
     "output_type": "execute_result"
    }
   ],
   "source": [
    "ds[\"forecast_reference_time\"][0].data"
   ]
  },
  {
   "cell_type": "markdown",
   "metadata": {},
   "source": [
    "## Initial visualisation\n",
    "\n",
    "Latitude vs Longitude vs Air temp"
   ]
  },
  {
   "cell_type": "code",
   "execution_count": 3,
   "metadata": {},
   "outputs": [],
   "source": [
    "import numpy as np\n",
    "from matplotlib import pyplot as plt\n",
    "from matplotlib.widgets import Slider"
   ]
  },
  {
   "cell_type": "code",
   "execution_count": 7,
   "metadata": {},
   "outputs": [],
   "source": [
    "lat = ds.variables[\"latitude\"][:]\n",
    "long = ds.variables[\"longitude\"][:]\n",
    "Z = ds.variables[\"air_temperature\"][:][0]"
   ]
  },
  {
   "cell_type": "code",
   "execution_count": 8,
   "metadata": {},
   "outputs": [
    {
     "data": {
      "image/png": "[encoded data removed]",
      "text/plain": [
       "<Figure size 432x288 with 2 Axes>"
      ]
     },
     "metadata": {
      "needs_background": "light"
     },
     "output_type": "display_data"
    }
   ],
   "source": [
    "fig, ax = plt.subplots()\n",
    "colour = Z[3]\n",
    "\n",
    "cntr = ax.contourf(long, lat, colour)\n",
    "\n",
    "fig.colorbar(cntr, ax=ax)\n",
    "ax.set_title(\"Temp (K) at various Lat-Long\")\n",
    "plt.show()"
   ]
  },
  {
   "cell_type": "markdown",
   "metadata": {},
   "source": [
    "## Animation\n",
    "https://towardsdatascience.com/basics-of-gifs-with-pythons-matplotlib-54dd544b6f30\n",
    "\n",
    "File: **fg.T1Hmax.UMRA2T.19910428_19910501.BOB01.4p4km.nc** \\\n",
    "Modeling: max wind-speed per hour; Storm BOB01 @ 4.4 km resolution; from 28-04-1991 -> 01-05-1991 (over 3 days) "
   ]
  },
  {
   "cell_type": "code",
   "execution_count": 28,
   "metadata": {},
   "outputs": [
    {
     "data": {
      "text/plain": [
       "(48, 9, 790, 810)"
      ]
     },
     "execution_count": 28,
     "metadata": {},
     "output_type": "execute_result"
    }
   ],
   "source": [
    "import imageio\n",
    "import os\n",
    "import pandas as pd\n",
    "\n",
    "PATH = \"../sample_data/1997TS\"\n",
    "FILENAME = \"fg.T1Hmax.UMRA2T.19970518_19970521.TC01B.4p4km.nc\"\n",
    "\n",
    "fn = f\"{PATH}/{FILENAME}\"\n",
    "ds2 = nc.Dataset(fn)\n",
    "# print(ds2.variables)\n",
    "\n",
    "lat2 = ds2.variables[\"latitude\"][:]\n",
    "long2 = ds2.variables[\"longitude\"][:]\n",
    "wind_speed = ds2.variables[\"wind_speed_of_gust\"][:]\n",
    "# wind_speed_flat = wind_speed.flatten()\n",
    "# pd.DataFrame(wind_speed_flat).to_csv(\"../sample_data/1997TS/4.4WindSpeeds.csv\")\n",
    "wind_speed.shape"
   ]
  },
  {
   "cell_type": "code",
   "execution_count": 13,
   "metadata": {},
   "outputs": [],
   "source": [
    "filenames = []\n",
    "for idx, frame in enumerate(wind_speed):\n",
    "    plt.contourf(long2, lat2, frame)\n",
    "    filename = f\"sc{idx}.png\"\n",
    "    filenames.append(filename)\n",
    "    plt.savefig(filename)\n",
    "    plt.close()\n",
    "    \n",
    "# build gif\n",
    "with imageio.get_writer('vis.gif', mode='I') as writer:\n",
    "    for filename in filenames:\n",
    "        image = imageio.imread(filename)\n",
    "        writer.append_data(image)\n",
    "        \n",
    "# Remove files\n",
    "for filename in set(filenames):\n",
    "    os.remove(filename)"
   ]
  },
  {
   "cell_type": "markdown",
   "metadata": {},
   "source": [
    "### Voila\n",
    "\n",
    "![Animation](./vis.gif)"
   ]
  }
 ],
 "metadata": {
  "interpreter": {
   "hash": "aee8b7b246df8f9039afb4144a1f6fd8d2ca17a180786b69acc140d282b71a49"
  },
  "kernelspec": {
   "display_name": "Python 3.10.2 64-bit",
   "language": "python",
   "name": "python3"
  },
  "language_info": {
   "codemirror_mode": {
    "name": "ipython",
    "version": 3
   },
   "file_extension": ".py",
   "mimetype": "text/x-python",
   "name": "python",
   "nbconvert_exporter": "python",
   "pygments_lexer": "ipython3",
   "version": "3.9.9"
  },
  "orig_nbformat": 4
 },
 "nbformat": 4,
 "nbformat_minor": 2
}
