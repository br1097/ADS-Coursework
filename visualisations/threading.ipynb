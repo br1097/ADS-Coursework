{
 "cells": [
  {
   "cell_type": "code",
   "execution_count": 4,
   "metadata": {},
   "outputs": [],
   "source": [
    "import time\n",
    "import threading\n",
    "from datetime import datetime"
   ]
  },
  {
   "cell_type": "code",
   "execution_count": 10,
   "metadata": {},
   "outputs": [],
   "source": [
    "def wait_and_print(i: int):\n",
    "    print(f\"\\nThread {i} starting!\", datetime.now().utcnow().__str__())\n",
    "    time.sleep(2 + .1 * i)\n",
    "    print(f\"\\nThread {i} finished!\", datetime.now().utcnow().__str__())   "
   ]
  },
  {
   "cell_type": "code",
   "execution_count": 13,
   "metadata": {},
   "outputs": [
    {
     "name": "stdout",
     "output_type": "stream",
     "text": [
      "\n",
      "Thread 0 starting!\n",
      "Thread 1 starting! 2022-04-24 13:59:50.533215\n",
      " 2022-04-24 13:59:50.532666\n",
      "Thread 2 starting! 2022-04-24 13:59:50.533687\n",
      "\n",
      "\n",
      "Thread 3 starting! 2022-04-24 13:59:50.534373\n",
      "waiting for all threads\n",
      "\n",
      "Thread 0 finished! 2022-04-24 13:59:52.534645\n",
      "\n",
      "Thread 1 finished! 2022-04-24 13:59:52.637477\n",
      "\n",
      "Thread 2 finished! 2022-04-24 13:59:52.738454\n",
      "\n",
      "Thread 3 finished! 2022-04-24 13:59:52.836929\n",
      "All threads finished\n"
     ]
    }
   ],
   "source": [
    "for i in range(4):\n",
    "    x = threading.Thread(target=wait_and_print, args=(i,))\n",
    "    x.start()\n",
    "print(\"waiting for all threads\")\n",
    "x.join()\n",
    "print(\"All threads finished\")"
   ]
  }
 ],
 "metadata": {
  "interpreter": {
   "hash": "aee8b7b246df8f9039afb4144a1f6fd8d2ca17a180786b69acc140d282b71a49"
  },
  "kernelspec": {
   "display_name": "Python 3.10.2 64-bit",
   "language": "python",
   "name": "python3"
  },
  "language_info": {
   "codemirror_mode": {
    "name": "ipython",
    "version": 3
   },
   "file_extension": ".py",
   "mimetype": "text/x-python",
   "name": "python",
   "nbconvert_exporter": "python",
   "pygments_lexer": "ipython3",
   "version": "3.10.2"
  },
  "orig_nbformat": 4
 },
 "nbformat": 4,
 "nbformat_minor": 2
}
